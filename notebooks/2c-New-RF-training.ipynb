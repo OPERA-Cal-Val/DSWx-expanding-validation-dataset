{
 "cells": [
  {
   "cell_type": "markdown",
   "metadata": {},
   "source": [
    "In training RFs to expand our validation dataset, we've come across two situations that are not captured by the approach thus far - \n",
    "1. The spectral characteristics of water within the validation chip is not representative of water surfaces present in the broader Planet image\n",
    "2. A validation chip contains no water classification, while the broader Planet image contains some water. Since the RF trained on this data is not given any OSW examples, it will classify the entire Planet image as \"not-water\"\n",
    "\n",
    "To mitigate this, we will train a random forest on validation data from multiple sites"
   ]
  },
  {
   "cell_type": "code",
   "execution_count": 3,
   "metadata": {},
   "outputs": [],
   "source": [
    "import rasterio\n",
    "\n",
    "import pandas as pd\n",
    "from pathlib import Path\n",
    "import numpy as np\n",
    "from collections import defaultdict\n",
    "import random\n",
    "\n",
    "# ML imports\n",
    "from sklearn.ensemble import RandomForestClassifier\n",
    "from skimage.segmentation import felzenszwalb\n",
    "from tools import get_superpixel_stds_as_features, get_superpixel_means_as_features, get_array_from_features, reproject_arr_to_match_profile\n",
    "from sklearn.model_selection import train_test_split\n",
    "import joblib\n",
    "from joblib import dump\n",
    "\n",
    "# local imports\n",
    "from rf_funcs import calc_ndwi, calc_ndvi, return_grn_indices, return_img_bands, return_reflectance_coeffs\n",
    "\n",
    "from tqdm import tqdm\n",
    "\n",
    "# for repeatability\n",
    "np.random.seed(42)"
   ]
  },
  {
   "cell_type": "code",
   "execution_count": 7,
   "metadata": {},
   "outputs": [],
   "source": [
    "RETRAIN_MODEL=True\n",
    "SUBSET_TRAINING=False # Set to True to use only a limited number of chips from each strata\n",
    "SUBSET_NUMBER=4 # Number of chips to use from each strata"
   ]
  },
  {
   "cell_type": "code",
   "execution_count": 8,
   "metadata": {},
   "outputs": [
    {
     "name": "stdout",
     "output_type": "stream",
     "text": [
      "dict_keys(['4_', '1_', '3_', '2_'])\n"
     ]
    }
   ],
   "source": [
    "# Read the validation database\n",
    "data_path = Path('../data/')\n",
    "val_chips_db = data_path / 'validation_table.csv'\n",
    "val_df = pd.read_csv(val_chips_db)\n",
    "\n",
    "site_names = list(val_df['site_name'])\n",
    "planet_ids = list(val_df['planet_id'])\n",
    "\n",
    "# Extract planet IDs and associated strata\n",
    "site_names_stratified = defaultdict(list)\n",
    "for sn, planet_id in zip(site_names, planet_ids):\n",
    "    site_names_stratified[sn[:2]].append(planet_id)\n",
    "\n",
    "print(site_names_stratified.keys())"
   ]
  },
  {
   "cell_type": "code",
   "execution_count": 9,
   "metadata": {},
   "outputs": [
    {
     "name": "stdout",
     "output_type": "stream",
     "text": [
      "Training sites:  ['20210917_152712_47_2457', '20210914_103644_25_2413', '20211016_135440_48_2459', '20211002_155415_1009', '20210927_105543_66_2424', '20211028_012421_73_245f', '20210915_011051_87_240a', '20210915_173832_80_2307', '20211021_133031_75_245a', '20210925_072712_16_2254', '20211010_135831_84_227e', '20211021_182217_09_2456', '20211030_142613_41_227b', '20211012_083209_57_245c', '20210930_021156_60_2434', '20210929_073913_09_2453']\n"
     ]
    }
   ],
   "source": [
    "# We can either use 4 chips from each strata, or ALL chips from each strata\n",
    "training_sites = []\n",
    "for key in site_names_stratified.keys():\n",
    "    if SUBSET_TRAINING:\n",
    "        training_sites.extend(np.random.choice(site_names_stratified[key], 4))\n",
    "    else:\n",
    "        training_sites.extend(site_names_stratified[key])\n",
    "\n",
    "print(\"Training sites: \", training_sites)"
   ]
  },
  {
   "cell_type": "markdown",
   "metadata": {},
   "source": [
    "We have the name of the planet ids. For each, do the following - \n",
    "1. Read the cropped planet image and the corresponding validation labels\n",
    "2. Generate superpixels and calculate mean and std dev.\n",
    "3. Append to list\n",
    "4. Train and save model\n",
    "5. Apply model to broader Planet images"
   ]
  },
  {
   "cell_type": "code",
   "execution_count": 28,
   "metadata": {},
   "outputs": [
    {
     "name": "stdout",
     "output_type": "stream",
     "text": [
      "Currently processing site # 0\n"
     ]
    },
    {
     "name": "stderr",
     "output_type": "stream",
     "text": [
      "/u/k-data/karthikv/mambaforge/envs/expand-validation/lib/python3.11/site-packages/scipy/ndimage/_measurements.py:640: RuntimeWarning: invalid value encountered in divide\n",
      "  means = sums / counts\n"
     ]
    },
    {
     "name": "stdout",
     "output_type": "stream",
     "text": [
      "Currently processing site # 1\n"
     ]
    },
    {
     "name": "stderr",
     "output_type": "stream",
     "text": [
      "/u/k-data/karthikv/mambaforge/envs/expand-validation/lib/python3.11/site-packages/scipy/ndimage/_measurements.py:640: RuntimeWarning: invalid value encountered in divide\n",
      "  means = sums / counts\n"
     ]
    },
    {
     "name": "stdout",
     "output_type": "stream",
     "text": [
      "Currently processing site # 2\n"
     ]
    },
    {
     "name": "stderr",
     "output_type": "stream",
     "text": [
      "/u/k-data/karthikv/mambaforge/envs/expand-validation/lib/python3.11/site-packages/scipy/ndimage/_measurements.py:640: RuntimeWarning: invalid value encountered in divide\n",
      "  means = sums / counts\n"
     ]
    },
    {
     "name": "stdout",
     "output_type": "stream",
     "text": [
      "Currently processing site # 3\n"
     ]
    },
    {
     "name": "stderr",
     "output_type": "stream",
     "text": [
      "/u/k-data/karthikv/mambaforge/envs/expand-validation/lib/python3.11/site-packages/scipy/ndimage/_measurements.py:640: RuntimeWarning: invalid value encountered in divide\n",
      "  means = sums / counts\n"
     ]
    },
    {
     "name": "stdout",
     "output_type": "stream",
     "text": [
      "Currently processing site # 4\n"
     ]
    },
    {
     "name": "stderr",
     "output_type": "stream",
     "text": [
      "/u/k-data/karthikv/mambaforge/envs/expand-validation/lib/python3.11/site-packages/scipy/ndimage/_measurements.py:640: RuntimeWarning: invalid value encountered in divide\n",
      "  means = sums / counts\n"
     ]
    },
    {
     "name": "stdout",
     "output_type": "stream",
     "text": [
      "Currently processing site # 5\n"
     ]
    },
    {
     "name": "stderr",
     "output_type": "stream",
     "text": [
      "/u/k-data/karthikv/mambaforge/envs/expand-validation/lib/python3.11/site-packages/scipy/ndimage/_measurements.py:640: RuntimeWarning: invalid value encountered in divide\n",
      "  means = sums / counts\n"
     ]
    },
    {
     "name": "stdout",
     "output_type": "stream",
     "text": [
      "Currently processing site # 6\n"
     ]
    },
    {
     "name": "stderr",
     "output_type": "stream",
     "text": [
      "/u/k-data/karthikv/mambaforge/envs/expand-validation/lib/python3.11/site-packages/scipy/ndimage/_measurements.py:640: RuntimeWarning: invalid value encountered in divide\n",
      "  means = sums / counts\n"
     ]
    },
    {
     "name": "stdout",
     "output_type": "stream",
     "text": [
      "Currently processing site # 7\n"
     ]
    },
    {
     "name": "stderr",
     "output_type": "stream",
     "text": [
      "/u/k-data/karthikv/mambaforge/envs/expand-validation/lib/python3.11/site-packages/scipy/ndimage/_measurements.py:640: RuntimeWarning: invalid value encountered in divide\n",
      "  means = sums / counts\n"
     ]
    },
    {
     "name": "stdout",
     "output_type": "stream",
     "text": [
      "Currently processing site # 8\n"
     ]
    },
    {
     "name": "stderr",
     "output_type": "stream",
     "text": [
      "/u/k-data/karthikv/mambaforge/envs/expand-validation/lib/python3.11/site-packages/scipy/ndimage/_measurements.py:640: RuntimeWarning: invalid value encountered in divide\n",
      "  means = sums / counts\n"
     ]
    },
    {
     "name": "stdout",
     "output_type": "stream",
     "text": [
      "Currently processing site # 9\n"
     ]
    },
    {
     "name": "stderr",
     "output_type": "stream",
     "text": [
      "/u/k-data/karthikv/mambaforge/envs/expand-validation/lib/python3.11/site-packages/scipy/ndimage/_measurements.py:640: RuntimeWarning: invalid value encountered in divide\n",
      "  means = sums / counts\n"
     ]
    },
    {
     "name": "stdout",
     "output_type": "stream",
     "text": [
      "Currently processing site # 10\n"
     ]
    },
    {
     "name": "stderr",
     "output_type": "stream",
     "text": [
      "/u/k-data/karthikv/mambaforge/envs/expand-validation/lib/python3.11/site-packages/scipy/ndimage/_measurements.py:640: RuntimeWarning: invalid value encountered in divide\n",
      "  means = sums / counts\n"
     ]
    },
    {
     "name": "stdout",
     "output_type": "stream",
     "text": [
      "Currently processing site # 11\n"
     ]
    },
    {
     "name": "stderr",
     "output_type": "stream",
     "text": [
      "/u/k-data/karthikv/mambaforge/envs/expand-validation/lib/python3.11/site-packages/scipy/ndimage/_measurements.py:640: RuntimeWarning: invalid value encountered in divide\n",
      "  means = sums / counts\n"
     ]
    },
    {
     "name": "stdout",
     "output_type": "stream",
     "text": [
      "Currently processing site # 12\n"
     ]
    },
    {
     "name": "stderr",
     "output_type": "stream",
     "text": [
      "/u/k-data/karthikv/mambaforge/envs/expand-validation/lib/python3.11/site-packages/scipy/ndimage/_measurements.py:640: RuntimeWarning: invalid value encountered in divide\n",
      "  means = sums / counts\n"
     ]
    },
    {
     "name": "stdout",
     "output_type": "stream",
     "text": [
      "Currently processing site # 13\n"
     ]
    },
    {
     "name": "stderr",
     "output_type": "stream",
     "text": [
      "/u/k-data/karthikv/mambaforge/envs/expand-validation/lib/python3.11/site-packages/scipy/ndimage/_measurements.py:640: RuntimeWarning: invalid value encountered in divide\n",
      "  means = sums / counts\n"
     ]
    },
    {
     "name": "stdout",
     "output_type": "stream",
     "text": [
      "Currently processing site # 14\n"
     ]
    },
    {
     "name": "stderr",
     "output_type": "stream",
     "text": [
      "/u/k-data/karthikv/mambaforge/envs/expand-validation/lib/python3.11/site-packages/scipy/ndimage/_measurements.py:640: RuntimeWarning: invalid value encountered in divide\n",
      "  means = sums / counts\n"
     ]
    },
    {
     "name": "stdout",
     "output_type": "stream",
     "text": [
      "Currently processing site # 15\n"
     ]
    },
    {
     "name": "stderr",
     "output_type": "stream",
     "text": [
      "/u/k-data/karthikv/mambaforge/envs/expand-validation/lib/python3.11/site-packages/scipy/ndimage/_measurements.py:640: RuntimeWarning: invalid value encountered in divide\n",
      "  means = sums / counts\n"
     ]
    },
    {
     "name": "stdout",
     "output_type": "stream",
     "text": [
      "Currently processing site # 16\n"
     ]
    },
    {
     "name": "stderr",
     "output_type": "stream",
     "text": [
      "/u/k-data/karthikv/mambaforge/envs/expand-validation/lib/python3.11/site-packages/scipy/ndimage/_measurements.py:640: RuntimeWarning: invalid value encountered in divide\n",
      "  means = sums / counts\n"
     ]
    },
    {
     "name": "stdout",
     "output_type": "stream",
     "text": [
      "Currently processing site # 17\n"
     ]
    },
    {
     "name": "stderr",
     "output_type": "stream",
     "text": [
      "/u/k-data/karthikv/mambaforge/envs/expand-validation/lib/python3.11/site-packages/scipy/ndimage/_measurements.py:640: RuntimeWarning: invalid value encountered in divide\n",
      "  means = sums / counts\n"
     ]
    },
    {
     "name": "stdout",
     "output_type": "stream",
     "text": [
      "Currently processing site # 18\n"
     ]
    },
    {
     "name": "stderr",
     "output_type": "stream",
     "text": [
      "/u/k-data/karthikv/mambaforge/envs/expand-validation/lib/python3.11/site-packages/scipy/ndimage/_measurements.py:640: RuntimeWarning: invalid value encountered in divide\n",
      "  means = sums / counts\n"
     ]
    },
    {
     "name": "stdout",
     "output_type": "stream",
     "text": [
      "Currently processing site # 19\n"
     ]
    },
    {
     "name": "stderr",
     "output_type": "stream",
     "text": [
      "/u/k-data/karthikv/mambaforge/envs/expand-validation/lib/python3.11/site-packages/scipy/ndimage/_measurements.py:640: RuntimeWarning: invalid value encountered in divide\n",
      "  means = sums / counts\n"
     ]
    },
    {
     "name": "stdout",
     "output_type": "stream",
     "text": [
      "Currently processing site # 20\n"
     ]
    },
    {
     "name": "stderr",
     "output_type": "stream",
     "text": [
      "/u/k-data/karthikv/mambaforge/envs/expand-validation/lib/python3.11/site-packages/scipy/ndimage/_measurements.py:640: RuntimeWarning: invalid value encountered in divide\n",
      "  means = sums / counts\n"
     ]
    },
    {
     "name": "stdout",
     "output_type": "stream",
     "text": [
      "Currently processing site # 21\n"
     ]
    },
    {
     "name": "stderr",
     "output_type": "stream",
     "text": [
      "/u/k-data/karthikv/mambaforge/envs/expand-validation/lib/python3.11/site-packages/scipy/ndimage/_measurements.py:640: RuntimeWarning: invalid value encountered in divide\n",
      "  means = sums / counts\n"
     ]
    },
    {
     "name": "stdout",
     "output_type": "stream",
     "text": [
      "Currently processing site # 22\n"
     ]
    },
    {
     "name": "stderr",
     "output_type": "stream",
     "text": [
      "/u/k-data/karthikv/mambaforge/envs/expand-validation/lib/python3.11/site-packages/scipy/ndimage/_measurements.py:640: RuntimeWarning: invalid value encountered in divide\n",
      "  means = sums / counts\n"
     ]
    },
    {
     "name": "stdout",
     "output_type": "stream",
     "text": [
      "Currently processing site # 23\n"
     ]
    },
    {
     "name": "stderr",
     "output_type": "stream",
     "text": [
      "/u/k-data/karthikv/mambaforge/envs/expand-validation/lib/python3.11/site-packages/scipy/ndimage/_measurements.py:640: RuntimeWarning: invalid value encountered in divide\n",
      "  means = sums / counts\n"
     ]
    },
    {
     "name": "stdout",
     "output_type": "stream",
     "text": [
      "Currently processing site # 24\n"
     ]
    },
    {
     "name": "stderr",
     "output_type": "stream",
     "text": [
      "/u/k-data/karthikv/mambaforge/envs/expand-validation/lib/python3.11/site-packages/scipy/ndimage/_measurements.py:640: RuntimeWarning: invalid value encountered in divide\n",
      "  means = sums / counts\n"
     ]
    },
    {
     "name": "stdout",
     "output_type": "stream",
     "text": [
      "Currently processing site # 25\n"
     ]
    },
    {
     "name": "stderr",
     "output_type": "stream",
     "text": [
      "/u/k-data/karthikv/mambaforge/envs/expand-validation/lib/python3.11/site-packages/scipy/ndimage/_measurements.py:640: RuntimeWarning: invalid value encountered in divide\n",
      "  means = sums / counts\n"
     ]
    },
    {
     "name": "stdout",
     "output_type": "stream",
     "text": [
      "Currently processing site # 26\n"
     ]
    },
    {
     "name": "stderr",
     "output_type": "stream",
     "text": [
      "/u/k-data/karthikv/mambaforge/envs/expand-validation/lib/python3.11/site-packages/scipy/ndimage/_measurements.py:640: RuntimeWarning: invalid value encountered in divide\n",
      "  means = sums / counts\n"
     ]
    },
    {
     "name": "stdout",
     "output_type": "stream",
     "text": [
      "Currently processing site # 27\n"
     ]
    },
    {
     "name": "stderr",
     "output_type": "stream",
     "text": [
      "/u/k-data/karthikv/mambaforge/envs/expand-validation/lib/python3.11/site-packages/scipy/ndimage/_measurements.py:640: RuntimeWarning: invalid value encountered in divide\n",
      "  means = sums / counts\n"
     ]
    },
    {
     "name": "stdout",
     "output_type": "stream",
     "text": [
      "Currently processing site # 28\n"
     ]
    },
    {
     "name": "stderr",
     "output_type": "stream",
     "text": [
      "/u/k-data/karthikv/mambaforge/envs/expand-validation/lib/python3.11/site-packages/scipy/ndimage/_measurements.py:640: RuntimeWarning: invalid value encountered in divide\n",
      "  means = sums / counts\n"
     ]
    },
    {
     "name": "stdout",
     "output_type": "stream",
     "text": [
      "Currently processing site # 29\n"
     ]
    },
    {
     "name": "stderr",
     "output_type": "stream",
     "text": [
      "/u/k-data/karthikv/mambaforge/envs/expand-validation/lib/python3.11/site-packages/scipy/ndimage/_measurements.py:640: RuntimeWarning: invalid value encountered in divide\n",
      "  means = sums / counts\n"
     ]
    },
    {
     "name": "stdout",
     "output_type": "stream",
     "text": [
      "Currently processing site # 30\n"
     ]
    },
    {
     "name": "stderr",
     "output_type": "stream",
     "text": [
      "/u/k-data/karthikv/mambaforge/envs/expand-validation/lib/python3.11/site-packages/scipy/ndimage/_measurements.py:640: RuntimeWarning: invalid value encountered in divide\n",
      "  means = sums / counts\n"
     ]
    },
    {
     "name": "stdout",
     "output_type": "stream",
     "text": [
      "Currently processing site # 31\n"
     ]
    },
    {
     "name": "stderr",
     "output_type": "stream",
     "text": [
      "/u/k-data/karthikv/mambaforge/envs/expand-validation/lib/python3.11/site-packages/scipy/ndimage/_measurements.py:640: RuntimeWarning: invalid value encountered in divide\n",
      "  means = sums / counts\n"
     ]
    },
    {
     "name": "stdout",
     "output_type": "stream",
     "text": [
      "Currently processing site # 32\n"
     ]
    },
    {
     "name": "stderr",
     "output_type": "stream",
     "text": [
      "/u/k-data/karthikv/mambaforge/envs/expand-validation/lib/python3.11/site-packages/scipy/ndimage/_measurements.py:640: RuntimeWarning: invalid value encountered in divide\n",
      "  means = sums / counts\n"
     ]
    },
    {
     "name": "stdout",
     "output_type": "stream",
     "text": [
      "Currently processing site # 33\n"
     ]
    },
    {
     "name": "stderr",
     "output_type": "stream",
     "text": [
      "/u/k-data/karthikv/mambaforge/envs/expand-validation/lib/python3.11/site-packages/scipy/ndimage/_measurements.py:640: RuntimeWarning: invalid value encountered in divide\n",
      "  means = sums / counts\n"
     ]
    },
    {
     "name": "stdout",
     "output_type": "stream",
     "text": [
      "Currently processing site # 34\n"
     ]
    },
    {
     "name": "stderr",
     "output_type": "stream",
     "text": [
      "/u/k-data/karthikv/mambaforge/envs/expand-validation/lib/python3.11/site-packages/scipy/ndimage/_measurements.py:640: RuntimeWarning: invalid value encountered in divide\n",
      "  means = sums / counts\n"
     ]
    },
    {
     "name": "stdout",
     "output_type": "stream",
     "text": [
      "Currently processing site # 35\n"
     ]
    },
    {
     "name": "stderr",
     "output_type": "stream",
     "text": [
      "/u/k-data/karthikv/mambaforge/envs/expand-validation/lib/python3.11/site-packages/scipy/ndimage/_measurements.py:640: RuntimeWarning: invalid value encountered in divide\n",
      "  means = sums / counts\n"
     ]
    },
    {
     "name": "stdout",
     "output_type": "stream",
     "text": [
      "Currently processing site # 36\n"
     ]
    },
    {
     "name": "stderr",
     "output_type": "stream",
     "text": [
      "/u/k-data/karthikv/mambaforge/envs/expand-validation/lib/python3.11/site-packages/scipy/ndimage/_measurements.py:640: RuntimeWarning: invalid value encountered in divide\n",
      "  means = sums / counts\n"
     ]
    },
    {
     "name": "stdout",
     "output_type": "stream",
     "text": [
      "Currently processing site # 37\n"
     ]
    },
    {
     "name": "stderr",
     "output_type": "stream",
     "text": [
      "/u/k-data/karthikv/mambaforge/envs/expand-validation/lib/python3.11/site-packages/scipy/ndimage/_measurements.py:640: RuntimeWarning: invalid value encountered in divide\n",
      "  means = sums / counts\n"
     ]
    },
    {
     "name": "stdout",
     "output_type": "stream",
     "text": [
      "Currently processing site # 38\n"
     ]
    },
    {
     "name": "stderr",
     "output_type": "stream",
     "text": [
      "/u/k-data/karthikv/mambaforge/envs/expand-validation/lib/python3.11/site-packages/scipy/ndimage/_measurements.py:640: RuntimeWarning: invalid value encountered in divide\n",
      "  means = sums / counts\n"
     ]
    },
    {
     "name": "stdout",
     "output_type": "stream",
     "text": [
      "Currently processing site # 39\n"
     ]
    },
    {
     "name": "stderr",
     "output_type": "stream",
     "text": [
      "/u/k-data/karthikv/mambaforge/envs/expand-validation/lib/python3.11/site-packages/scipy/ndimage/_measurements.py:640: RuntimeWarning: invalid value encountered in divide\n",
      "  means = sums / counts\n"
     ]
    },
    {
     "name": "stdout",
     "output_type": "stream",
     "text": [
      "Currently processing site # 40\n"
     ]
    },
    {
     "name": "stderr",
     "output_type": "stream",
     "text": [
      "/u/k-data/karthikv/mambaforge/envs/expand-validation/lib/python3.11/site-packages/scipy/ndimage/_measurements.py:640: RuntimeWarning: invalid value encountered in divide\n",
      "  means = sums / counts\n"
     ]
    },
    {
     "name": "stdout",
     "output_type": "stream",
     "text": [
      "Currently processing site # 41\n"
     ]
    },
    {
     "name": "stderr",
     "output_type": "stream",
     "text": [
      "/u/k-data/karthikv/mambaforge/envs/expand-validation/lib/python3.11/site-packages/scipy/ndimage/_measurements.py:640: RuntimeWarning: invalid value encountered in divide\n",
      "  means = sums / counts\n"
     ]
    },
    {
     "name": "stdout",
     "output_type": "stream",
     "text": [
      "Currently processing site # 42\n"
     ]
    },
    {
     "name": "stderr",
     "output_type": "stream",
     "text": [
      "/u/k-data/karthikv/mambaforge/envs/expand-validation/lib/python3.11/site-packages/scipy/ndimage/_measurements.py:640: RuntimeWarning: invalid value encountered in divide\n",
      "  means = sums / counts\n"
     ]
    },
    {
     "name": "stdout",
     "output_type": "stream",
     "text": [
      "Currently processing site # 43\n"
     ]
    },
    {
     "name": "stderr",
     "output_type": "stream",
     "text": [
      "/u/k-data/karthikv/mambaforge/envs/expand-validation/lib/python3.11/site-packages/scipy/ndimage/_measurements.py:640: RuntimeWarning: invalid value encountered in divide\n",
      "  means = sums / counts\n"
     ]
    },
    {
     "name": "stdout",
     "output_type": "stream",
     "text": [
      "Currently processing site # 44\n"
     ]
    },
    {
     "name": "stderr",
     "output_type": "stream",
     "text": [
      "/u/k-data/karthikv/mambaforge/envs/expand-validation/lib/python3.11/site-packages/scipy/ndimage/_measurements.py:640: RuntimeWarning: invalid value encountered in divide\n",
      "  means = sums / counts\n"
     ]
    },
    {
     "name": "stdout",
     "output_type": "stream",
     "text": [
      "Currently processing site # 45\n"
     ]
    },
    {
     "name": "stderr",
     "output_type": "stream",
     "text": [
      "/u/k-data/karthikv/mambaforge/envs/expand-validation/lib/python3.11/site-packages/scipy/ndimage/_measurements.py:640: RuntimeWarning: invalid value encountered in divide\n",
      "  means = sums / counts\n"
     ]
    },
    {
     "name": "stdout",
     "output_type": "stream",
     "text": [
      "Currently processing site # 46\n"
     ]
    },
    {
     "name": "stderr",
     "output_type": "stream",
     "text": [
      "/u/k-data/karthikv/mambaforge/envs/expand-validation/lib/python3.11/site-packages/scipy/ndimage/_measurements.py:640: RuntimeWarning: invalid value encountered in divide\n",
      "  means = sums / counts\n"
     ]
    },
    {
     "name": "stdout",
     "output_type": "stream",
     "text": [
      "Currently processing site # 47\n"
     ]
    },
    {
     "name": "stderr",
     "output_type": "stream",
     "text": [
      "/u/k-data/karthikv/mambaforge/envs/expand-validation/lib/python3.11/site-packages/scipy/ndimage/_measurements.py:640: RuntimeWarning: invalid value encountered in divide\n",
      "  means = sums / counts\n"
     ]
    },
    {
     "name": "stdout",
     "output_type": "stream",
     "text": [
      "Currently processing site # 48\n"
     ]
    },
    {
     "name": "stderr",
     "output_type": "stream",
     "text": [
      "/u/k-data/karthikv/mambaforge/envs/expand-validation/lib/python3.11/site-packages/scipy/ndimage/_measurements.py:640: RuntimeWarning: invalid value encountered in divide\n",
      "  means = sums / counts\n"
     ]
    },
    {
     "name": "stdout",
     "output_type": "stream",
     "text": [
      "Currently processing site # 49\n"
     ]
    },
    {
     "name": "stderr",
     "output_type": "stream",
     "text": [
      "/u/k-data/karthikv/mambaforge/envs/expand-validation/lib/python3.11/site-packages/scipy/ndimage/_measurements.py:640: RuntimeWarning: invalid value encountered in divide\n",
      "  means = sums / counts\n"
     ]
    },
    {
     "name": "stdout",
     "output_type": "stream",
     "text": [
      "Currently processing site # 50\n"
     ]
    },
    {
     "name": "stderr",
     "output_type": "stream",
     "text": [
      "/u/k-data/karthikv/mambaforge/envs/expand-validation/lib/python3.11/site-packages/scipy/ndimage/_measurements.py:640: RuntimeWarning: invalid value encountered in divide\n",
      "  means = sums / counts\n"
     ]
    },
    {
     "name": "stdout",
     "output_type": "stream",
     "text": [
      "Currently processing site # 51\n"
     ]
    },
    {
     "name": "stderr",
     "output_type": "stream",
     "text": [
      "/u/k-data/karthikv/mambaforge/envs/expand-validation/lib/python3.11/site-packages/scipy/ndimage/_measurements.py:640: RuntimeWarning: invalid value encountered in divide\n",
      "  means = sums / counts\n"
     ]
    },
    {
     "name": "stdout",
     "output_type": "stream",
     "text": [
      "Beginning model training\n"
     ]
    }
   ],
   "source": [
    "if RETRAIN_MODEL:\n",
    "    X, class_features = None, None\n",
    "    for idx, site in enumerate(training_sites):\n",
    "        print(f\"Currently processing site # {idx}\")\n",
    "\n",
    "        current_img_path = data_path / site\n",
    "        cropped_img_path = data_path / 'planet_images_cropped' / site\n",
    "        \n",
    "        xml_file = list(current_img_path.glob('*.xml'))[0]\n",
    "        chip = list(cropped_img_path.glob(f'cropped_{site}*.tif'))[0]\n",
    "        classification = list(cropped_img_path.glob(f'classification_*.tif'))[0] \n",
    "\n",
    "        band_idxs = return_grn_indices(xml_file)\n",
    "        coeffs = return_reflectance_coeffs(xml_file, band_idxs)\n",
    "        chip_img = return_img_bands(chip, band_idxs, denoising_weight=None)\n",
    "\n",
    "        with rasterio.open(chip) as src_ds:\n",
    "            ref_profile = src_ds.profile\n",
    "\n",
    "        green = chip_img[0]*coeffs[band_idxs[0]]\n",
    "        red = chip_img[1]*coeffs[band_idxs[1]]\n",
    "        nir = chip_img[2]*coeffs[band_idxs[2]]\n",
    "\n",
    "        with rasterio.open(classification) as src_ds:\n",
    "            cl = src_ds.read(1)\n",
    "            cl_profile = src_ds.profile\n",
    "\n",
    "        # some classification extents are not the same as the corresponding planet chip extent\n",
    "        # if they are not the same, reproject the validation data to match the profile of the planet data\n",
    "        if ((ref_profile['transform'] != cl_profile['transform']) | \n",
    "            (ref_profile['width'] != cl_profile['width']) | \n",
    "            (ref_profile['height'] != cl_profile['height'])):\n",
    "\n",
    "            cl, _ = reproject_arr_to_match_profile(cl, cl_profile, ref_profile)\n",
    "            cl = np.squeeze(cl)\n",
    "\n",
    "        ndwi = calc_ndwi(green, nir)\n",
    "        ndvi = calc_ndvi(red, nir)\n",
    "\n",
    "        # segment image using green, nir, and NDWI channels\n",
    "        img_stack = np.stack([green, nir, ndwi], axis=-1)\n",
    "        segments = felzenszwalb(img_stack, sigma=0, min_size=10)\n",
    "\n",
    "        # create training data that includes other channels as well\n",
    "        img_stack = np.stack([red, nir, green, ndwi, ndvi], axis=-1)     \n",
    "        std_features = get_superpixel_stds_as_features(segments, img_stack)\n",
    "        mean_features = get_superpixel_means_as_features(segments, img_stack)\n",
    "\n",
    "        if X is None:\n",
    "            X = np.concatenate([mean_features, std_features], axis = 1)\n",
    "        else:\n",
    "            X_temp = np.concatenate([mean_features, std_features], axis = 1)\n",
    "            X = np.concatenate([X, X_temp], axis=0)\n",
    "\n",
    "        # We have superpixels, we now need to map each of the segments to the associated label\n",
    "        # A 0 value indicates no label for the segment\n",
    "        \n",
    "        class_features_temp = np.zeros((mean_features.shape[0], 1))\n",
    "        for class_id in [0, 1]:\n",
    "            # Get all superpixel labels with particular id\n",
    "            superpixel_labels_for_class = np.unique(segments[class_id == cl])\n",
    "            # Label those superpixels with approrpriate class\n",
    "            class_features_temp[superpixel_labels_for_class] = class_id\n",
    "\n",
    "        if class_features is None:\n",
    "            class_features = class_features_temp\n",
    "        else:\n",
    "            class_features = np.concatenate([class_features, class_features_temp], axis=0)\n",
    "\n",
    "\n",
    "    print(\"Beginning model training\")\n",
    "    # Define an RF to be trained. setting n_jobs = -1 uses all available processors\n",
    "    rf = RandomForestClassifier(n_estimators=300, class_weight='balanced', oob_score=True, random_state=0, n_jobs=-1)\n",
    "\n",
    "    # train model on all of the available data\n",
    "    rf.fit(X, class_features.ravel())\n",
    "\n",
    "    rf_model_folder = data_path / 'trained_model' / 'rf_model'\n",
    "    rf_model_folder.mkdir(exist_ok=True, parents=True)\n",
    "    model_path = rf_model_folder/\"rf_model_alldata.joblib\"\n",
    "\n",
    "    # save for later use\n",
    "    dump(rf, model_path)"
   ]
  },
  {
   "cell_type": "code",
   "execution_count": 18,
   "metadata": {},
   "outputs": [],
   "source": [
    "# X_train, X_test, y_train, y_test = train_test_split(X, class_features, test_size=0.15, random_state=0)\n",
    "\n",
    "# print(\"Beginning model training\")\n",
    "# # Define an RF to be trained. setting n_jobs = -1 uses all available processors\n",
    "# rf = RandomForestClassifier(n_estimators=500, class_weight='balanced', oob_score=True, random_state=0, n_jobs=-1)\n",
    "\n",
    "# # train model on all of the available data\n",
    "# rf.fit(X_train, y_train.ravel())\n",
    "\n",
    "# print(\"Model test score: \", rf.score(X_test, y_test))\n",
    "\n",
    "# # rf_model_folder = data_path / 'trained_model' / 'rf_model'\n",
    "# # rf_model_folder.mkdir(exist_ok=True, parents=True)\n",
    "# # model_path = rf_model_folder/\"rf_model.joblib\"\n",
    "\n",
    "# # # save for later use\n",
    "# # dump(rf, model_path)"
   ]
  },
  {
   "cell_type": "code",
   "execution_count": 19,
   "metadata": {},
   "outputs": [],
   "source": [
    "# print(\"Beginning model training\")\n",
    "# # Define an RF to be trained. setting n_jobs = -1 uses all available processors\n",
    "# rf = RandomForestClassifier(n_estimators=300, class_weight='balanced', oob_score=True, random_state=0, n_jobs=-1)\n",
    "\n",
    "# # train model on all of the available data\n",
    "# rf.fit(X, class_features.ravel())\n",
    "\n",
    "# rf_model_folder = data_path / 'trained_model' / 'rf_model'\n",
    "# rf_model_folder.mkdir(exist_ok=True, parents=True)\n",
    "# model_path = rf_model_folder/\"rf_model.joblib\"\n",
    "\n",
    "# # save for later use\n",
    "# dump(rf, model_path)"
   ]
  },
  {
   "cell_type": "code",
   "execution_count": 6,
   "metadata": {},
   "outputs": [],
   "source": [
    "if not RETRAIN_MODEL:\n",
    "    rf_model_folder = data_path / 'trained_model' / 'rf_model'\n",
    "    model_path = rf_model_folder/\"rf_model.joblib\"\n",
    "    rf = joblib.load(model_path)"
   ]
  },
  {
   "cell_type": "markdown",
   "metadata": {},
   "source": [
    "Let's make inferences on the broader planet images"
   ]
  },
  {
   "cell_type": "code",
   "execution_count": 20,
   "metadata": {},
   "outputs": [],
   "source": [
    "def generate_inference_helper(rf, img:str|Path, xml_file:str|Path):\n",
    "    band_idxs = return_grn_indices(xml_file)\n",
    "    coeffs = return_reflectance_coeffs(xml_file, band_idxs)\n",
    "    \n",
    "    full_img = return_img_bands(img, band_idxs, denoising_weight=None)\n",
    "\n",
    "    green = full_img[0]*coeffs[band_idxs[0]]\n",
    "    red = full_img[1]*coeffs[band_idxs[1]]\n",
    "    nir = full_img[2]*coeffs[band_idxs[2]]\n",
    "\n",
    "    ndwi = calc_ndwi(green, nir)\n",
    "    ndvi = calc_ndvi(red, nir)\n",
    "\n",
    "    img_stack = np.stack([green, nir, ndwi], axis=-1)\n",
    "    segments = felzenszwalb(img_stack, sigma=0, min_size=10)\n",
    "\n",
    "    # for inference we include other channels as well\n",
    "    img_stack = np.stack([red, nir, green, ndwi, ndvi], axis=-1)\n",
    "    std_features = get_superpixel_stds_as_features(segments, img_stack)\n",
    "    mean_features = get_superpixel_means_as_features(segments, img_stack)\n",
    "\n",
    "    X = np.concatenate([mean_features, std_features], axis = 1)\n",
    "    y = rf.predict(X)\n",
    "\n",
    "    return get_array_from_features(segments, np.expand_dims(y, axis=1))\n",
    "\n",
    "def generate_inference(planet_id):\n",
    "    \"\"\" \n",
    "    This function takes in a planet_id and generates inferences for the overlapping planet image\n",
    "    \"\"\"\n",
    "    data_path = Path('../data')\n",
    "    \n",
    "    current_img_path = data_path / planet_id\n",
    "    cropped_img_path = data_path / 'planet_images_cropped' / planet_id\n",
    "    xml_file = list(current_img_path.glob('*.xml'))[0]\n",
    "    classification = list(cropped_img_path.glob(f'classification_*.tif'))[0]\n",
    "\n",
    "    img = list(current_img_path.glob(f'{planet_id}*.tif'))[0]\n",
    "\n",
    "    inference = generate_inference_helper(rf, img, xml_file)\n",
    "\n",
    "    # use planet image to mask out regions of no data in the model inference\n",
    "    with rasterio.open(img) as src_ds:\n",
    "        nodata_mask = np.where(src_ds.read(1) == src_ds.profile['nodata'], 1, 0)\n",
    "        inference[nodata_mask==1] = 255\n",
    "        profile_copy = src_ds.profile\n",
    "        profile_copy.update({'count':1, 'dtype':np.uint8, 'nodata':255})\n",
    "\n",
    "        # write out model inference\n",
    "        with rasterio.open(f\"{classification.parent}/new_full_img_rf_classification_{classification.name}\", 'w', **profile_copy) as dst_ds:\n",
    "            dst_ds.write(inference.astype(np.uint8).reshape(1, *inference.shape))\n",
    "\n",
    "    print(f\"Completed inference for planet id {planet_id}\")"
   ]
  },
  {
   "cell_type": "code",
   "execution_count": 29,
   "metadata": {},
   "outputs": [
    {
     "name": "stderr",
     "output_type": "stream",
     "text": [
      "  0%|          | 0/52 [00:00<?, ?it/s]/u/k-data/karthikv/mambaforge/envs/expand-validation/lib/python3.11/site-packages/scipy/ndimage/_measurements.py:640: RuntimeWarning: invalid value encountered in divide\n",
      "  means = sums / counts\n",
      "  2%|▏         | 1/52 [16:01<13:37:37, 961.91s/it]"
     ]
    },
    {
     "name": "stdout",
     "output_type": "stream",
     "text": [
      "Completed inference for planet id 20210903_150800_60_2458\n"
     ]
    },
    {
     "name": "stderr",
     "output_type": "stream",
     "text": [
      "/u/k-data/karthikv/mambaforge/envs/expand-validation/lib/python3.11/site-packages/scipy/ndimage/_measurements.py:640: RuntimeWarning: invalid value encountered in divide\n",
      "  means = sums / counts\n",
      "  4%|▍         | 2/52 [25:09<9:58:29, 718.18s/it] "
     ]
    },
    {
     "name": "stdout",
     "output_type": "stream",
     "text": [
      "Completed inference for planet id 20210903_152641_60_105c\n"
     ]
    },
    {
     "name": "stderr",
     "output_type": "stream",
     "text": [
      "/u/k-data/karthikv/mambaforge/envs/expand-validation/lib/python3.11/site-packages/scipy/ndimage/_measurements.py:640: RuntimeWarning: invalid value encountered in divide\n",
      "  means = sums / counts\n",
      "  6%|▌         | 3/52 [49:19<14:19:32, 1052.50s/it]"
     ]
    },
    {
     "name": "stdout",
     "output_type": "stream",
     "text": [
      "Completed inference for planet id 20210904_093422_44_1065\n"
     ]
    },
    {
     "name": "stderr",
     "output_type": "stream",
     "text": [
      "/u/k-data/karthikv/mambaforge/envs/expand-validation/lib/python3.11/site-packages/scipy/ndimage/_measurements.py:640: RuntimeWarning: invalid value encountered in divide\n",
      "  means = sums / counts\n",
      "  8%|▊         | 4/52 [1:12:47<15:54:17, 1192.87s/it]"
     ]
    },
    {
     "name": "stdout",
     "output_type": "stream",
     "text": [
      "Completed inference for planet id 20210906_101112_28_225a\n"
     ]
    },
    {
     "name": "stderr",
     "output_type": "stream",
     "text": [
      "/u/k-data/karthikv/mambaforge/envs/expand-validation/lib/python3.11/site-packages/scipy/ndimage/_measurements.py:640: RuntimeWarning: invalid value encountered in divide\n",
      "  means = sums / counts\n",
      " 10%|▉         | 5/52 [1:33:25<15:47:02, 1208.99s/it]"
     ]
    },
    {
     "name": "stdout",
     "output_type": "stream",
     "text": [
      "Completed inference for planet id 20210909_000649_94_222b\n"
     ]
    },
    {
     "name": "stderr",
     "output_type": "stream",
     "text": [
      "/u/k-data/karthikv/mambaforge/envs/expand-validation/lib/python3.11/site-packages/scipy/ndimage/_measurements.py:640: RuntimeWarning: invalid value encountered in divide\n",
      "  means = sums / counts\n",
      " 12%|█▏        | 6/52 [2:00:04<17:08:32, 1341.57s/it]"
     ]
    },
    {
     "name": "stdout",
     "output_type": "stream",
     "text": [
      "Completed inference for planet id 20210911_001230_44_2262\n"
     ]
    },
    {
     "name": "stderr",
     "output_type": "stream",
     "text": [
      "/u/k-data/karthikv/mambaforge/envs/expand-validation/lib/python3.11/site-packages/scipy/ndimage/_measurements.py:640: RuntimeWarning: invalid value encountered in divide\n",
      "  means = sums / counts\n",
      " 13%|█▎        | 7/52 [2:06:12<12:47:33, 1023.40s/it]"
     ]
    },
    {
     "name": "stdout",
     "output_type": "stream",
     "text": [
      "Completed inference for planet id 20210911_005129_82_106a\n"
     ]
    },
    {
     "name": "stderr",
     "output_type": "stream",
     "text": [
      "/u/k-data/karthikv/mambaforge/envs/expand-validation/lib/python3.11/site-packages/scipy/ndimage/_measurements.py:640: RuntimeWarning: invalid value encountered in divide\n",
      "  means = sums / counts\n",
      " 15%|█▌        | 8/52 [2:18:09<11:18:47, 925.63s/it] "
     ]
    },
    {
     "name": "stdout",
     "output_type": "stream",
     "text": [
      "Completed inference for planet id 20210912_034049_22_2421\n"
     ]
    },
    {
     "name": "stderr",
     "output_type": "stream",
     "text": [
      "/u/k-data/karthikv/mambaforge/envs/expand-validation/lib/python3.11/site-packages/scipy/ndimage/_measurements.py:640: RuntimeWarning: invalid value encountered in divide\n",
      "  means = sums / counts\n",
      " 17%|█▋        | 9/52 [2:45:12<13:39:36, 1143.65s/it]"
     ]
    },
    {
     "name": "stdout",
     "output_type": "stream",
     "text": [
      "Completed inference for planet id 20210912_094213_84_240f\n"
     ]
    },
    {
     "name": "stderr",
     "output_type": "stream",
     "text": [
      "/u/k-data/karthikv/mambaforge/envs/expand-validation/lib/python3.11/site-packages/scipy/ndimage/_measurements.py:640: RuntimeWarning: invalid value encountered in divide\n",
      "  means = sums / counts\n",
      " 19%|█▉        | 10/52 [3:20:33<16:51:46, 1445.39s/it]"
     ]
    },
    {
     "name": "stdout",
     "output_type": "stream",
     "text": [
      "Completed inference for planet id 20210914_094548_30_2406\n"
     ]
    },
    {
     "name": "stderr",
     "output_type": "stream",
     "text": [
      "/u/k-data/karthikv/mambaforge/envs/expand-validation/lib/python3.11/site-packages/scipy/ndimage/_measurements.py:640: RuntimeWarning: invalid value encountered in divide\n",
      "  means = sums / counts\n",
      " 21%|██        | 11/52 [3:35:13<14:29:30, 1272.46s/it]"
     ]
    },
    {
     "name": "stdout",
     "output_type": "stream",
     "text": [
      "Completed inference for planet id 20210914_103644_25_2413\n"
     ]
    },
    {
     "name": "stderr",
     "output_type": "stream",
     "text": [
      "/u/k-data/karthikv/mambaforge/envs/expand-validation/lib/python3.11/site-packages/scipy/ndimage/_measurements.py:640: RuntimeWarning: invalid value encountered in divide\n",
      "  means = sums / counts\n",
      " 23%|██▎       | 12/52 [4:05:54<16:03:41, 1445.54s/it]"
     ]
    },
    {
     "name": "stdout",
     "output_type": "stream",
     "text": [
      "Completed inference for planet id 20210915_011051_87_240a\n"
     ]
    },
    {
     "name": "stderr",
     "output_type": "stream",
     "text": [
      "/u/k-data/karthikv/mambaforge/envs/expand-validation/lib/python3.11/site-packages/scipy/ndimage/_measurements.py:640: RuntimeWarning: invalid value encountered in divide\n",
      "  means = sums / counts\n",
      " 25%|██▌       | 13/52 [5:00:38<21:41:35, 2002.45s/it]"
     ]
    },
    {
     "name": "stdout",
     "output_type": "stream",
     "text": [
      "Completed inference for planet id 20210915_172340_12_245f\n"
     ]
    },
    {
     "name": "stderr",
     "output_type": "stream",
     "text": [
      "/u/k-data/karthikv/mambaforge/envs/expand-validation/lib/python3.11/site-packages/scipy/ndimage/_measurements.py:640: RuntimeWarning: invalid value encountered in divide\n",
      "  means = sums / counts\n",
      " 27%|██▋       | 14/52 [5:27:49<19:57:05, 1890.14s/it]"
     ]
    },
    {
     "name": "stdout",
     "output_type": "stream",
     "text": [
      "Completed inference for planet id 20210915_173832_80_2307\n"
     ]
    },
    {
     "name": "stderr",
     "output_type": "stream",
     "text": [
      "/u/k-data/karthikv/mambaforge/envs/expand-validation/lib/python3.11/site-packages/scipy/ndimage/_measurements.py:640: RuntimeWarning: invalid value encountered in divide\n",
      "  means = sums / counts\n",
      " 29%|██▉       | 15/52 [5:38:45<15:36:16, 1518.27s/it]"
     ]
    },
    {
     "name": "stdout",
     "output_type": "stream",
     "text": [
      "Completed inference for planet id 20210916_010848_94_2407\n"
     ]
    },
    {
     "name": "stderr",
     "output_type": "stream",
     "text": [
      "/u/k-data/karthikv/mambaforge/envs/expand-validation/lib/python3.11/site-packages/scipy/ndimage/_measurements.py:640: RuntimeWarning: invalid value encountered in divide\n",
      "  means = sums / counts\n",
      " 31%|███       | 16/52 [5:50:15<12:41:18, 1268.86s/it]"
     ]
    },
    {
     "name": "stdout",
     "output_type": "stream",
     "text": [
      "Completed inference for planet id 20210917_140704_93_2262\n"
     ]
    },
    {
     "name": "stderr",
     "output_type": "stream",
     "text": [
      "/u/k-data/karthikv/mambaforge/envs/expand-validation/lib/python3.11/site-packages/scipy/ndimage/_measurements.py:640: RuntimeWarning: invalid value encountered in divide\n",
      "  means = sums / counts\n",
      " 33%|███▎      | 17/52 [6:51:19<19:20:12, 1988.93s/it]"
     ]
    },
    {
     "name": "stdout",
     "output_type": "stream",
     "text": [
      "Completed inference for planet id 20210917_152712_47_2457\n"
     ]
    },
    {
     "name": "stderr",
     "output_type": "stream",
     "text": [
      "/u/k-data/karthikv/mambaforge/envs/expand-validation/lib/python3.11/site-packages/scipy/ndimage/_measurements.py:640: RuntimeWarning: invalid value encountered in divide\n",
      "  means = sums / counts\n",
      " 35%|███▍      | 18/52 [7:17:44<17:38:26, 1867.84s/it]"
     ]
    },
    {
     "name": "stdout",
     "output_type": "stream",
     "text": [
      "Completed inference for planet id 20210922_171337_39_2420\n"
     ]
    },
    {
     "name": "stderr",
     "output_type": "stream",
     "text": [
      "/u/k-data/karthikv/mambaforge/envs/expand-validation/lib/python3.11/site-packages/scipy/ndimage/_measurements.py:640: RuntimeWarning: invalid value encountered in divide\n",
      "  means = sums / counts\n",
      " 37%|███▋      | 19/52 [7:48:09<17:00:08, 1854.80s/it]"
     ]
    },
    {
     "name": "stdout",
     "output_type": "stream",
     "text": [
      "Completed inference for planet id 20210924_000522_94_2421\n"
     ]
    },
    {
     "name": "stderr",
     "output_type": "stream",
     "text": [
      "/u/k-data/karthikv/mambaforge/envs/expand-validation/lib/python3.11/site-packages/scipy/ndimage/_measurements.py:640: RuntimeWarning: invalid value encountered in divide\n",
      "  means = sums / counts\n",
      " 38%|███▊      | 20/52 [8:18:34<16:24:23, 1845.74s/it]"
     ]
    },
    {
     "name": "stdout",
     "output_type": "stream",
     "text": [
      "Completed inference for planet id 20210924_082025_48_2424\n"
     ]
    },
    {
     "name": "stderr",
     "output_type": "stream",
     "text": [
      "/u/k-data/karthikv/mambaforge/envs/expand-validation/lib/python3.11/site-packages/scipy/ndimage/_measurements.py:640: RuntimeWarning: invalid value encountered in divide\n",
      "  means = sums / counts\n",
      " 40%|████      | 21/52 [8:30:01<12:54:01, 1498.12s/it]"
     ]
    },
    {
     "name": "stdout",
     "output_type": "stream",
     "text": [
      "Completed inference for planet id 20210924_133812_95_2420\n"
     ]
    },
    {
     "name": "stderr",
     "output_type": "stream",
     "text": [
      "/u/k-data/karthikv/mambaforge/envs/expand-validation/lib/python3.11/site-packages/scipy/ndimage/_measurements.py:640: RuntimeWarning: invalid value encountered in divide\n",
      "  means = sums / counts\n",
      " 42%|████▏     | 22/52 [8:46:23<11:11:34, 1343.16s/it]"
     ]
    },
    {
     "name": "stdout",
     "output_type": "stream",
     "text": [
      "Completed inference for planet id 20210925_072712_16_2254\n"
     ]
    },
    {
     "name": "stderr",
     "output_type": "stream",
     "text": [
      "/u/k-data/karthikv/mambaforge/envs/expand-validation/lib/python3.11/site-packages/scipy/ndimage/_measurements.py:640: RuntimeWarning: invalid value encountered in divide\n",
      "  means = sums / counts\n",
      " 44%|████▍     | 23/52 [9:09:28<10:55:15, 1355.71s/it]"
     ]
    },
    {
     "name": "stdout",
     "output_type": "stream",
     "text": [
      "Completed inference for planet id 20210926_020646_15_2231\n"
     ]
    },
    {
     "name": "stderr",
     "output_type": "stream",
     "text": [
      "/u/k-data/karthikv/mambaforge/envs/expand-validation/lib/python3.11/site-packages/scipy/ndimage/_measurements.py:640: RuntimeWarning: invalid value encountered in divide\n",
      "  means = sums / counts\n",
      " 46%|████▌     | 24/52 [9:40:43<11:45:22, 1511.53s/it]"
     ]
    },
    {
     "name": "stdout",
     "output_type": "stream",
     "text": [
      "Completed inference for planet id 20210927_105543_66_2424\n"
     ]
    },
    {
     "name": "stderr",
     "output_type": "stream",
     "text": [
      "/u/k-data/karthikv/mambaforge/envs/expand-validation/lib/python3.11/site-packages/scipy/ndimage/_measurements.py:640: RuntimeWarning: invalid value encountered in divide\n",
      "  means = sums / counts\n",
      " 48%|████▊     | 25/52 [10:11:43<12:07:12, 1616.02s/it]"
     ]
    },
    {
     "name": "stdout",
     "output_type": "stream",
     "text": [
      "Completed inference for planet id 20210928_141837_16_2407\n"
     ]
    },
    {
     "name": "stderr",
     "output_type": "stream",
     "text": [
      "/u/k-data/karthikv/mambaforge/envs/expand-validation/lib/python3.11/site-packages/scipy/ndimage/_measurements.py:640: RuntimeWarning: invalid value encountered in divide\n",
      "  means = sums / counts\n",
      " 50%|█████     | 26/52 [10:25:48<10:00:05, 1384.81s/it]"
     ]
    },
    {
     "name": "stdout",
     "output_type": "stream",
     "text": [
      "Completed inference for planet id 20210928_211311_91_2457\n"
     ]
    },
    {
     "name": "stderr",
     "output_type": "stream",
     "text": [
      "/u/k-data/karthikv/mambaforge/envs/expand-validation/lib/python3.11/site-packages/scipy/ndimage/_measurements.py:640: RuntimeWarning: invalid value encountered in divide\n",
      "  means = sums / counts\n",
      " 52%|█████▏    | 27/52 [10:58:04<10:45:56, 1550.28s/it]"
     ]
    },
    {
     "name": "stdout",
     "output_type": "stream",
     "text": [
      "Completed inference for planet id 20210929_073913_09_2453\n"
     ]
    },
    {
     "name": "stderr",
     "output_type": "stream",
     "text": [
      "/u/k-data/karthikv/mambaforge/envs/expand-validation/lib/python3.11/site-packages/scipy/ndimage/_measurements.py:640: RuntimeWarning: invalid value encountered in divide\n",
      "  means = sums / counts\n",
      " 54%|█████▍    | 28/52 [11:36:42<11:52:12, 1780.50s/it]"
     ]
    },
    {
     "name": "stdout",
     "output_type": "stream",
     "text": [
      "Completed inference for planet id 20210930_021156_60_2434\n"
     ]
    },
    {
     "name": "stderr",
     "output_type": "stream",
     "text": [
      "/u/k-data/karthikv/mambaforge/envs/expand-validation/lib/python3.11/site-packages/scipy/ndimage/_measurements.py:640: RuntimeWarning: invalid value encountered in divide\n",
      "  means = sums / counts\n",
      " 56%|█████▌    | 29/52 [11:48:28<9:18:56, 1458.13s/it] "
     ]
    },
    {
     "name": "stdout",
     "output_type": "stream",
     "text": [
      "Completed inference for planet id 20210930_070548_00_2442\n"
     ]
    },
    {
     "name": "stderr",
     "output_type": "stream",
     "text": [
      "/u/k-data/karthikv/mambaforge/envs/expand-validation/lib/python3.11/site-packages/scipy/ndimage/_measurements.py:640: RuntimeWarning: invalid value encountered in divide\n",
      "  means = sums / counts\n",
      " 58%|█████▊    | 30/52 [11:58:40<7:21:34, 1204.29s/it]"
     ]
    },
    {
     "name": "stdout",
     "output_type": "stream",
     "text": [
      "Completed inference for planet id 20211002_155415_1009\n"
     ]
    },
    {
     "name": "stderr",
     "output_type": "stream",
     "text": [
      "/u/k-data/karthikv/mambaforge/envs/expand-validation/lib/python3.11/site-packages/scipy/ndimage/_measurements.py:640: RuntimeWarning: invalid value encountered in divide\n",
      "  means = sums / counts\n",
      " 60%|█████▉    | 31/52 [12:09:50<6:05:26, 1044.12s/it]"
     ]
    },
    {
     "name": "stdout",
     "output_type": "stream",
     "text": [
      "Completed inference for planet id 20211003_161639_91_241d\n"
     ]
    },
    {
     "name": "stderr",
     "output_type": "stream",
     "text": [
      "/u/k-data/karthikv/mambaforge/envs/expand-validation/lib/python3.11/site-packages/scipy/ndimage/_measurements.py:640: RuntimeWarning: invalid value encountered in divide\n",
      "  means = sums / counts\n",
      " 62%|██████▏   | 32/52 [12:42:22<7:18:45, 1316.28s/it]"
     ]
    },
    {
     "name": "stdout",
     "output_type": "stream",
     "text": [
      "Completed inference for planet id 20211004_132710_80_240c\n"
     ]
    },
    {
     "name": "stderr",
     "output_type": "stream",
     "text": [
      "/u/k-data/karthikv/mambaforge/envs/expand-validation/lib/python3.11/site-packages/scipy/ndimage/_measurements.py:640: RuntimeWarning: invalid value encountered in divide\n",
      "  means = sums / counts\n",
      " 63%|██████▎   | 33/52 [13:32:43<9:38:49, 1827.87s/it]"
     ]
    },
    {
     "name": "stdout",
     "output_type": "stream",
     "text": [
      "Completed inference for planet id 20211004_135131_16_2276\n"
     ]
    },
    {
     "name": "stderr",
     "output_type": "stream",
     "text": [
      "/u/k-data/karthikv/mambaforge/envs/expand-validation/lib/python3.11/site-packages/scipy/ndimage/_measurements.py:640: RuntimeWarning: invalid value encountered in divide\n",
      "  means = sums / counts\n",
      " 65%|██████▌   | 34/52 [14:19:46<10:37:52, 2126.27s/it]"
     ]
    },
    {
     "name": "stdout",
     "output_type": "stream",
     "text": [
      "Completed inference for planet id 20211005_030345_52_241f\n"
     ]
    },
    {
     "name": "stderr",
     "output_type": "stream",
     "text": [
      "/u/k-data/karthikv/mambaforge/envs/expand-validation/lib/python3.11/site-packages/scipy/ndimage/_measurements.py:640: RuntimeWarning: invalid value encountered in divide\n",
      "  means = sums / counts\n",
      " 67%|██████▋   | 35/52 [14:42:46<8:59:03, 1902.54s/it] "
     ]
    },
    {
     "name": "stdout",
     "output_type": "stream",
     "text": [
      "Completed inference for planet id 20211010_135831_84_227e\n"
     ]
    },
    {
     "name": "stderr",
     "output_type": "stream",
     "text": [
      "/u/k-data/karthikv/mambaforge/envs/expand-validation/lib/python3.11/site-packages/scipy/ndimage/_measurements.py:640: RuntimeWarning: invalid value encountered in divide\n",
      "  means = sums / counts\n",
      " 69%|██████▉   | 36/52 [14:57:23<7:05:16, 1594.79s/it]"
     ]
    },
    {
     "name": "stdout",
     "output_type": "stream",
     "text": [
      "Completed inference for planet id 20211011_065101_82_2274\n"
     ]
    },
    {
     "name": "stderr",
     "output_type": "stream",
     "text": [
      "/u/k-data/karthikv/mambaforge/envs/expand-validation/lib/python3.11/site-packages/scipy/ndimage/_measurements.py:640: RuntimeWarning: invalid value encountered in divide\n",
      "  means = sums / counts\n",
      " 71%|███████   | 37/52 [15:20:15<6:21:59, 1527.96s/it]"
     ]
    },
    {
     "name": "stdout",
     "output_type": "stream",
     "text": [
      "Completed inference for planet id 20211011_155455_52_2262\n"
     ]
    },
    {
     "name": "stderr",
     "output_type": "stream",
     "text": [
      "/u/k-data/karthikv/mambaforge/envs/expand-validation/lib/python3.11/site-packages/scipy/ndimage/_measurements.py:640: RuntimeWarning: invalid value encountered in divide\n",
      "  means = sums / counts\n",
      " 73%|███████▎  | 38/52 [15:47:28<6:03:51, 1559.36s/it]"
     ]
    },
    {
     "name": "stdout",
     "output_type": "stream",
     "text": [
      "Completed inference for planet id 20211012_002401_90_2459\n"
     ]
    },
    {
     "name": "stderr",
     "output_type": "stream",
     "text": [
      "/u/k-data/karthikv/mambaforge/envs/expand-validation/lib/python3.11/site-packages/scipy/ndimage/_measurements.py:640: RuntimeWarning: invalid value encountered in divide\n",
      "  means = sums / counts\n",
      " 75%|███████▌  | 39/52 [16:15:21<5:45:15, 1593.49s/it]"
     ]
    },
    {
     "name": "stdout",
     "output_type": "stream",
     "text": [
      "Completed inference for planet id 20211012_083209_57_245c\n"
     ]
    },
    {
     "name": "stderr",
     "output_type": "stream",
     "text": [
      "/u/k-data/karthikv/mambaforge/envs/expand-validation/lib/python3.11/site-packages/scipy/ndimage/_measurements.py:640: RuntimeWarning: invalid value encountered in divide\n",
      "  means = sums / counts\n",
      " 77%|███████▋  | 40/52 [16:44:29<5:27:57, 1639.76s/it]"
     ]
    },
    {
     "name": "stdout",
     "output_type": "stream",
     "text": [
      "Completed inference for planet id 20211016_135440_48_2459\n"
     ]
    },
    {
     "name": "stderr",
     "output_type": "stream",
     "text": [
      "/u/k-data/karthikv/mambaforge/envs/expand-validation/lib/python3.11/site-packages/scipy/ndimage/_measurements.py:640: RuntimeWarning: invalid value encountered in divide\n",
      "  means = sums / counts\n",
      " 79%|███████▉  | 41/52 [17:21:26<5:32:24, 1813.16s/it]"
     ]
    },
    {
     "name": "stdout",
     "output_type": "stream",
     "text": [
      "Completed inference for planet id 20211016_174304_93_245f\n"
     ]
    },
    {
     "name": "stderr",
     "output_type": "stream",
     "text": [
      "/u/k-data/karthikv/mambaforge/envs/expand-validation/lib/python3.11/site-packages/scipy/ndimage/_measurements.py:640: RuntimeWarning: invalid value encountered in divide\n",
      "  means = sums / counts\n",
      " 81%|████████  | 42/52 [17:35:21<4:13:17, 1519.71s/it]"
     ]
    },
    {
     "name": "stdout",
     "output_type": "stream",
     "text": [
      "Completed inference for planet id 20211019_180019_07_2453\n"
     ]
    },
    {
     "name": "stderr",
     "output_type": "stream",
     "text": [
      "/u/k-data/karthikv/mambaforge/envs/expand-validation/lib/python3.11/site-packages/scipy/ndimage/_measurements.py:640: RuntimeWarning: invalid value encountered in divide\n",
      "  means = sums / counts\n",
      " 83%|████████▎ | 43/52 [18:09:18<4:11:13, 1674.88s/it]"
     ]
    },
    {
     "name": "stdout",
     "output_type": "stream",
     "text": [
      "Completed inference for planet id 20211021_133031_75_245a\n"
     ]
    },
    {
     "name": "stderr",
     "output_type": "stream",
     "text": [
      "/u/k-data/karthikv/mambaforge/envs/expand-validation/lib/python3.11/site-packages/scipy/ndimage/_measurements.py:640: RuntimeWarning: invalid value encountered in divide\n",
      "  means = sums / counts\n",
      " 85%|████████▍ | 44/52 [18:24:29<3:12:44, 1445.55s/it]"
     ]
    },
    {
     "name": "stdout",
     "output_type": "stream",
     "text": [
      "Completed inference for planet id 20211021_182217_09_2456\n"
     ]
    },
    {
     "name": "stderr",
     "output_type": "stream",
     "text": [
      "/u/k-data/karthikv/mambaforge/envs/expand-validation/lib/python3.11/site-packages/scipy/ndimage/_measurements.py:640: RuntimeWarning: invalid value encountered in divide\n",
      "  means = sums / counts\n",
      " 87%|████████▋ | 45/52 [18:39:24<2:29:23, 1280.46s/it]"
     ]
    },
    {
     "name": "stdout",
     "output_type": "stream",
     "text": [
      "Completed inference for planet id 20211022_175213_55_2440\n"
     ]
    },
    {
     "name": "stderr",
     "output_type": "stream",
     "text": [
      "/u/k-data/karthikv/mambaforge/envs/expand-validation/lib/python3.11/site-packages/scipy/ndimage/_measurements.py:640: RuntimeWarning: invalid value encountered in divide\n",
      "  means = sums / counts\n",
      " 88%|████████▊ | 46/52 [18:58:18<2:03:38, 1236.40s/it]"
     ]
    },
    {
     "name": "stdout",
     "output_type": "stream",
     "text": [
      "Completed inference for planet id 20211023_115642_67_105d\n"
     ]
    },
    {
     "name": "stderr",
     "output_type": "stream",
     "text": [
      "/u/k-data/karthikv/mambaforge/envs/expand-validation/lib/python3.11/site-packages/scipy/ndimage/_measurements.py:640: RuntimeWarning: invalid value encountered in divide\n",
      "  means = sums / counts\n",
      " 90%|█████████ | 47/52 [19:37:37<2:11:06, 1573.30s/it]"
     ]
    },
    {
     "name": "stdout",
     "output_type": "stream",
     "text": [
      "Completed inference for planet id 20211028_012421_73_245f\n"
     ]
    },
    {
     "name": "stderr",
     "output_type": "stream",
     "text": [
      "/u/k-data/karthikv/mambaforge/envs/expand-validation/lib/python3.11/site-packages/scipy/ndimage/_measurements.py:640: RuntimeWarning: invalid value encountered in divide\n",
      "  means = sums / counts\n",
      " 92%|█████████▏| 48/52 [19:51:27<1:30:00, 1350.22s/it]"
     ]
    },
    {
     "name": "stdout",
     "output_type": "stream",
     "text": [
      "Completed inference for planet id 20211028_045455_02_2459\n"
     ]
    },
    {
     "name": "stderr",
     "output_type": "stream",
     "text": [
      "/u/k-data/karthikv/mambaforge/envs/expand-validation/lib/python3.11/site-packages/scipy/ndimage/_measurements.py:640: RuntimeWarning: invalid value encountered in divide\n",
      "  means = sums / counts\n",
      " 94%|█████████▍| 49/52 [20:04:53<59:21, 1187.07s/it]  "
     ]
    },
    {
     "name": "stdout",
     "output_type": "stream",
     "text": [
      "Completed inference for planet id 20211028_063039_20_2429\n"
     ]
    },
    {
     "name": "stderr",
     "output_type": "stream",
     "text": [
      "/u/k-data/karthikv/mambaforge/envs/expand-validation/lib/python3.11/site-packages/scipy/ndimage/_measurements.py:640: RuntimeWarning: invalid value encountered in divide\n",
      "  means = sums / counts\n",
      " 96%|█████████▌| 50/52 [20:42:50<50:27, 1513.98s/it]"
     ]
    },
    {
     "name": "stdout",
     "output_type": "stream",
     "text": [
      "Completed inference for planet id 20211028_134803_20_227a\n"
     ]
    },
    {
     "name": "stderr",
     "output_type": "stream",
     "text": [
      "/u/k-data/karthikv/mambaforge/envs/expand-validation/lib/python3.11/site-packages/scipy/ndimage/_measurements.py:640: RuntimeWarning: invalid value encountered in divide\n",
      "  means = sums / counts\n",
      " 98%|█████████▊| 51/52 [21:27:57<31:11, 1871.88s/it]"
     ]
    },
    {
     "name": "stdout",
     "output_type": "stream",
     "text": [
      "Completed inference for planet id 20211028_144231_39_227b\n"
     ]
    },
    {
     "name": "stderr",
     "output_type": "stream",
     "text": [
      "/u/k-data/karthikv/mambaforge/envs/expand-validation/lib/python3.11/site-packages/scipy/ndimage/_measurements.py:640: RuntimeWarning: invalid value encountered in divide\n",
      "  means = sums / counts\n",
      "100%|██████████| 52/52 [22:14:55<00:00, 1540.29s/it]"
     ]
    },
    {
     "name": "stdout",
     "output_type": "stream",
     "text": [
      "Completed inference for planet id 20211030_142613_41_227b\n"
     ]
    },
    {
     "name": "stderr",
     "output_type": "stream",
     "text": [
      "\n"
     ]
    }
   ],
   "source": [
    "_ = list(map(generate_inference, tqdm(planet_ids)))"
   ]
  },
  {
   "cell_type": "code",
   "execution_count": 30,
   "metadata": {},
   "outputs": [
    {
     "data": {
      "text/plain": [
       "array([0.03855211, 0.3848263 , 0.03254691, 0.21088557, 0.12055762,\n",
       "       0.01563617, 0.02419592, 0.01149294, 0.08922672, 0.07207974])"
      ]
     },
     "execution_count": 30,
     "metadata": {},
     "output_type": "execute_result"
    }
   ],
   "source": [
    "rf.feature_importances_"
   ]
  }
 ],
 "metadata": {
  "kernelspec": {
   "display_name": "Python 3.11.4 ('expand-validation')",
   "language": "python",
   "name": "python3"
  },
  "language_info": {
   "codemirror_mode": {
    "name": "ipython",
    "version": 3
   },
   "file_extension": ".py",
   "mimetype": "text/x-python",
   "name": "python",
   "nbconvert_exporter": "python",
   "pygments_lexer": "ipython3",
   "version": "3.11.4"
  },
  "orig_nbformat": 4,
  "vscode": {
   "interpreter": {
    "hash": "b152803b66cfa001ed97e9e00acd856e858ad0a12af49f09c5d65ae5aa072c5d"
   }
  }
 },
 "nbformat": 4,
 "nbformat_minor": 2
}
