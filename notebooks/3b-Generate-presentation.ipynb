{
 "cells": [
  {
   "cell_type": "markdown",
   "metadata": {},
   "source": [
    "Generate latex file to generate summary report"
   ]
  },
  {
   "cell_type": "code",
   "execution_count": null,
   "metadata": {},
   "outputs": [],
   "source": [
    "# imports\n",
    "import matplotlib.pyplot as plt\n",
    "from pathlib import Path\n",
    "import pandas as pd\n",
    "import numpy as np\n",
    "from collections import defaultdict"
   ]
  },
  {
   "cell_type": "code",
   "execution_count": null,
   "metadata": {},
   "outputs": [],
   "source": [
    "# Sorting by site name results in the report slides to be organized \n",
    "# by the amount of water present in the original scene\n",
    "SORT_BY_SITENAME=True"
   ]
  },
  {
   "cell_type": "code",
   "execution_count": null,
   "metadata": {},
   "outputs": [],
   "source": [
    "latex_path = Path(\"../latex\")\n",
    "latex_path.mkdir(exist_ok=True)"
   ]
  },
  {
   "cell_type": "code",
   "execution_count": null,
   "metadata": {},
   "outputs": [],
   "source": [
    "data_path = Path('../data')\n",
    "\n",
    "df = pd.read_csv(data_path / 'new_validation_table.csv')\n",
    "df = df[['site_name', 'planet_id', 'dswx_files']]\n",
    "if SORT_BY_SITENAME:\n",
    "    df.sort_values('site_name', inplace=True)\n",
    "df.head()"
   ]
  },
  {
   "cell_type": "code",
   "execution_count": null,
   "metadata": {},
   "outputs": [],
   "source": [
    "df_new_metrics = pd.read_csv('../latex/new_metrics.csv', dtype={'reclassified_strata':str})\n",
    "df_new_metrics.head()"
   ]
  },
  {
   "cell_type": "code",
   "execution_count": null,
   "metadata": {},
   "outputs": [],
   "source": [
    "df_new_metrics['old_strata'] = df_new_metrics['old_strata'].map(lambda x:int(x))\n",
    "df_new_metrics['reclassified_strata'] = df_new_metrics['reclassified_strata'].map(lambda x:int(x))\n",
    "\n",
    "df_new_metrics"
   ]
  },
  {
   "cell_type": "code",
   "execution_count": null,
   "metadata": {},
   "outputs": [],
   "source": [
    "df_new_metrics['Old strata'] = df_new_metrics['old_strata']\n",
    "df_new_metrics['New strata'] = df_new_metrics['reclassified_strata']\n",
    "\n",
    "df_new_metrics = df_new_metrics.drop(['old_strata', 'reclassified_strata'], axis=1)"
   ]
  },
  {
   "cell_type": "code",
   "execution_count": null,
   "metadata": {},
   "outputs": [],
   "source": [
    "old_strata_count = df_new_metrics['Old strata'].value_counts()\n",
    "new_strata_count = df_new_metrics['New strata'].value_counts()\n",
    "\n",
    "for key in [0, 1, 2, 3]:\n",
    "    if key not in new_strata_count:\n",
    "        new_strata_count[key] = 0\n",
    "\n",
    "    if key not in old_strata_count:\n",
    "        old_strata_count[key] = 0\n",
    "\n",
    "old_strata_count = old_strata_count.sort_index()\n",
    "new_strata_count = new_strata_count.sort_index()"
   ]
  },
  {
   "cell_type": "code",
   "execution_count": null,
   "metadata": {},
   "outputs": [],
   "source": [
    "new_strata_count"
   ]
  },
  {
   "cell_type": "code",
   "execution_count": null,
   "metadata": {},
   "outputs": [],
   "source": [
    "fig, axs = plt.subplots(1, 1, figsize=(12, 8))\n",
    "\n",
    "# PSW\n",
    "old_keys, old_values = zip(*old_strata_count.items())\n",
    "new_keys, new_values = zip(*new_strata_count.items())\n",
    "\n",
    "# Set the width of each bar\n",
    "bar_width = 0.4\n",
    "\n",
    "# Calculate the x positions for the bars\n",
    "old_x = range(0, len(old_keys))\n",
    "new_x = [x+0.2 for x in old_x]\n",
    "\n",
    "# Create the bar plots\n",
    "axs.bar(old_x, old_values, width=bar_width, label='Original validation', alpha=0.8)\n",
    "axs.bar(new_x, new_values, width=bar_width, label='Expanded validation', alpha=0.8)\n",
    "axs.set_xlabel('Strata', fontsize=14)\n",
    "axs.set_ylabel('# of scenes', fontsize=14)\n",
    "axs.set_xticks([0, 1, 2, 3])\n",
    "axs.set_xticklabels([0, 1, 2, 3], fontsize=15)\n",
    "axs.set_yticks([3, 6, 9, 12, 15, 18, 21])\n",
    "axs.set_yticklabels([3, 6, 9, 12, 15, 18, 21], fontsize=15)\n",
    "axs.set_title('# of scenes per strata', fontsize=15)\n",
    "axs.legend(fontsize=14)\n",
    "\n",
    "plt.savefig('../latex/strata_distribution_plot.png')"
   ]
  },
  {
   "cell_type": "code",
   "execution_count": null,
   "metadata": {},
   "outputs": [],
   "source": [
    "new_strata_count.to_latex(\"../latex/new_strata_counts_table.tex\")\n",
    "old_strata_count.to_latex(\"../latex/old_strata_counts_table.tex\")"
   ]
  },
  {
   "cell_type": "code",
   "execution_count": null,
   "metadata": {},
   "outputs": [],
   "source": [
    "# Slide template\n",
    "\n",
    "latex_slide_template = r\"\"\"\n",
    "%%%%%%%%%%%%%%%%%%%%%%%%%%%%%%%%%%%%%%%%%%%%%%%%%%\n",
    "\\begin{frame}[fragile]\n",
    "\\frametitle{$<<DSWX_ID>>$}\n",
    "\\begin{center}\n",
    "\\tiny\n",
    "\\begin{verbatim}\n",
    "DSWx ID: <<DSWX_ID_ORIG>>\n",
    "PLANET ID: <<PLANET_ID>>\n",
    "SITE ID: <<SITE_ID>> (NEW STRATA: <<NEW_STRATA>>)\n",
    "\n",
    "\\end{verbatim}\n",
    "\\includegraphics[scale=0.25]{<<DSWX_DIR>>/chip_extents.png}\n",
    "\\vfill\n",
    "\\input{<<DSWX_DIR>>/requirements.tex}\n",
    "\\vfill\n",
    "\\input{<<DSWX_DIR>>/area_summary.tex}\n",
    "\\end{center}\n",
    "\\vfill\n",
    "\\end{frame}\n",
    "%%%%%%%%%%%%%%%%%%%%%%%%%%%%%%%%%%%%%%%%%%%%%%%%%%\n",
    "\n",
    "%%%%%%%%%%%%%%%%%%%%%%%%%%%%%%%%%%%%%%%%%%%%%%%%%%\n",
    "\\begin{frame}[fragile]\n",
    "\\frametitle{$<<DSWX_ID>>$}\n",
    "\\begin{center}\n",
    "\\tiny\n",
    "\\begin{verbatim}\n",
    "DSWx ID: <<DSWX_ID_ORIG>>\n",
    "PLANET ID: <<PLANET_ID>>\n",
    "SITE ID: <<SITE_ID>> (NEW STRATA: <<NEW_STRATA>>)\n",
    "\\end{verbatim}\n",
    "\\includegraphics[trim={0 2cm 0 2cm}, scale=0.25, clip]{<<DSWX_DIR>>/classifications.png}\n",
    "\\input{<<DSWX_DIR>>/confusion_matrix.tex}\n",
    "\\end{center}\n",
    "\\end{frame}\n",
    "%%%%%%%%%%%%%%%%%%%%%%%%%%%%%%%%%%%%%%%%%%%%%%%%%%\n",
    "\"\"\""
   ]
  },
  {
   "cell_type": "code",
   "execution_count": null,
   "metadata": {},
   "outputs": [],
   "source": [
    "# For each Planet side, use template to generate slide\n",
    "with open(latex_path / \"slides.tex\", 'w') as f:\n",
    "    for i, row in df.iterrows():\n",
    "        \n",
    "        planet_id = row.planet_id\n",
    "        dswx_id_orig = row.dswx_files.split('/')[-1][:-12]\n",
    "        dswx_id = dswx_id_orig.replace('_', '\\_').replace('-', '{\\\\text -}')\n",
    "\n",
    "        tmp_text = latex_slide_template.replace(\"<<DSWX_ID>>\", str(dswx_id))\n",
    "        tmp_text = tmp_text.replace(\"<<DSWX_ID_ORIG>>\", str(dswx_id_orig))\n",
    "        tmp_text = tmp_text.replace(\"<<DSWX_DIR>>\", str(planet_id))\n",
    "        tmp_text = tmp_text.replace(\"<<<Not Passed>>>\", \"\\textcolor{red}{Not Passed}\")\n",
    "        tmp_text = tmp_text.replace(\"<<PLANET_ID>>\", planet_id)\n",
    "        tmp_text = tmp_text.replace(\"<<SITE_ID>>\", row.site_name)\n",
    "\n",
    "        _row = df_new_metrics[df_new_metrics.planet_id == planet_id]\n",
    "\n",
    "        tmp_text = tmp_text.replace(\"<<NEW_STRATA>>\", str(int(_row['New strata'].values[0])))\n",
    "\n",
    "        f.write(tmp_text)"
   ]
  },
  {
   "cell_type": "markdown",
   "metadata": {},
   "source": [
    "### Create a summary table for DSWx performance"
   ]
  },
  {
   "cell_type": "code",
   "execution_count": null,
   "metadata": {},
   "outputs": [],
   "source": [
    "temp_df = df_new_metrics\n",
    "\n",
    "# trim, in case there are more than 52 records\n",
    "temp_df = temp_df.iloc[0:52]\n",
    "\n",
    "n_scenes = len(temp_df)\n",
    "\n",
    "old_psw_dswx = np.round(100*np.sum(temp_df['Old_PSW_mean_accuracy'] > 70) / n_scenes, 2)\n",
    "old_osw_dswx = np.round(100*np.sum(temp_df['Old_OSW_mean_accuracy'] > 80) / n_scenes, 2)\n",
    "\n",
    "new_psw_dswx = np.round(100*np.sum(temp_df['New_PSW_mean_accuracy'] > 70) / n_scenes, 2)\n",
    "new_osw_dswx = np.round(100*np.sum(temp_df['New_OSW_mean_accuracy'] > 80) / n_scenes, 2)\n",
    "\n",
    "print(f\"% scenes passing PSW with old validation {old_psw_dswx}\\%\")\n",
    "print(f\"% scenes passing OSW with old validation {old_osw_dswx}\\%\")\n",
    "\n",
    "print(f\"% scenes passing PSW with new validation {new_psw_dswx}\\%\")\n",
    "print(f\"% scenes passing OSW with new validation {new_osw_dswx}\\%\")\n",
    "\n",
    "formatted_not_pass = \"\\\\textcolor{red}{Not Passed}\"\n",
    "formatted_pass = \"\\\\textcolor{green}{Passed}\"\n",
    "\n",
    "# old validation pass/fail:\n",
    "old_psw_str = f\"\\\\textcolor{{red}}{{{old_psw_dswx}\\%}} ({formatted_not_pass})\" if old_psw_dswx < 70 else f\"\\\\textcolor{{green}}{{{old_psw_dswx}\\%}} ({formatted_pass})\"\n",
    "old_osw_str = f\"\\\\textcolor{{red}}{old_osw_dswx}\\%}} ({formatted_not_pass})\" if old_osw_dswx < 80 else f\"\\\\textcolor{{green}}{{{old_osw_dswx}\\%}} ({formatted_pass})\"\n",
    "\n",
    "# new validation pass/fail:\n",
    "new_psw_str = f\"\\\\textcolor{{red}}{{{new_psw_dswx}\\%}} ({formatted_not_pass})\" if new_psw_dswx < 70 else f\"\\\\textcolor{{green}}{{{new_psw_dswx}\\%}} ({formatted_pass})\"\n",
    "new_osw_str = f\"\\\\textcolor{{red}}{{{new_osw_dswx}\\%}} ({formatted_not_pass})\" if new_osw_dswx < 80 else f\"\\\\textcolor{{green}}{{{new_osw_dswx}\\%}} ({formatted_pass})\"\n",
    "\n",
    "summary_table = {\"Class\":[\"PSW\", \"OSW\"], \n",
    "\"Original Validation OPERA Req.\":[old_psw_str, old_osw_str], \n",
    "\"Expanded Validation OPERA Req.\":[new_psw_str, new_osw_str]}\n",
    "\n",
    "summary_table_df = pd.DataFrame(summary_table)\n",
    "summary_table_df\n",
    "summary_table_df.to_latex(\"../latex/summary.tex\")"
   ]
  },
  {
   "cell_type": "code",
   "execution_count": null,
   "metadata": {},
   "outputs": [],
   "source": [
    "old_osw_passing = dict({'0':0, '1':0, '2':0, '3':0})\n",
    "old_psw_passing = dict({'0':0, '1':0, '2':0, '3':0})\n",
    "new_osw_passing = dict({'0':0, '1':0, '2':0, '3':0})\n",
    "new_psw_passing = dict({'0':0, '1':0, '2':0, '3':0})\n",
    "\n",
    "for _, row in temp_df.iterrows():\n",
    "    strata = str(row['Old strata'])\n",
    "    new_strata = str(row['New strata'])\n",
    "\n",
    "    o_psw_acc = row['Old_PSW_mean_accuracy']\n",
    "    o_osw_acc = row['Old_OSW_mean_accuracy']\n",
    "    \n",
    "    n_psw_acc = row['New_PSW_mean_accuracy']\n",
    "    n_osw_acc = row['New_OSW_mean_accuracy']\n",
    "\n",
    "    if o_psw_acc >= 70:\n",
    "        old_psw_passing[strata] += 1\n",
    "    if o_osw_acc >= 80:\n",
    "        old_osw_passing[strata] += 1\n",
    "\n",
    "    if n_psw_acc >= 70:\n",
    "        new_psw_passing[new_strata] += 1\n",
    "    if n_osw_acc >= 80:\n",
    "        new_osw_passing[new_strata] += 1\n",
    "\n",
    "print(old_psw_passing, old_osw_passing, new_psw_passing, new_osw_passing)"
   ]
  },
  {
   "cell_type": "code",
   "execution_count": null,
   "metadata": {},
   "outputs": [],
   "source": [
    "fig, axs = plt.subplots(1, 2, figsize=(20, 8))\n",
    "\n",
    "# PSW\n",
    "old_keys, old_values = zip(*old_psw_passing.items())\n",
    "new_keys, new_values = zip(*new_psw_passing.items())\n",
    "\n",
    "# Set the width of each bar\n",
    "bar_width = 0.4\n",
    "\n",
    "# Calculate the x positions for the bars\n",
    "old_x = range(0, len(old_keys))\n",
    "new_x = [x+0.2 for x in old_x]\n",
    "\n",
    "# Create the bar plots\n",
    "axs[0].bar(old_x, old_values, width=bar_width, label='Original validation', alpha=0.8)\n",
    "axs[0].bar(new_x, new_values, width=bar_width, label='Expanded validation', alpha=0.8)\n",
    "axs[0].set_xlabel('Strata', fontsize=14)\n",
    "axs[0].set_ylabel('Passing cases', fontsize=14)\n",
    "axs[0].set_xticks([0, 1, 2, 3])\n",
    "axs[0].set_xticklabels([0, 1, 2, 3], fontsize=15)\n",
    "axs[0].set_yticks([3, 6, 9, 12, 15, 18, 21, 24])\n",
    "axs[0].set_yticklabels([3, 6, 9, 12, 15, 18, 21, 24], fontsize=15)\n",
    "axs[0].set_title('# of passing PSW', fontsize=15)\n",
    "axs[0].legend(fontsize=14)\n",
    "\n",
    "\n",
    "# OSW\n",
    "old_keys, old_values = zip(*old_osw_passing.items())\n",
    "new_keys, new_values = zip(*new_osw_passing.items())\n",
    "\n",
    "# Set the width of each bar\n",
    "bar_width = 0.4\n",
    "\n",
    "# Calculate the x positions for the bars\n",
    "old_x = range(0, len(old_keys))\n",
    "new_x = [x+0.2 for x in old_x]\n",
    "\n",
    "# Create the bar plots\n",
    "axs[1].bar(old_x, old_values, width=bar_width, label='Original validation', alpha=0.8)\n",
    "axs[1].bar(new_x, new_values, width=bar_width, label='Expanded validation', alpha=0.8)\n",
    "axs[1].set_xlabel('Strata', fontsize=14)\n",
    "axs[1].set_xticks([0, 1, 2, 3])\n",
    "axs[1].set_xticklabels([0, 1, 2, 3], fontsize=15)\n",
    "axs[1].set_yticks([3, 6, 9, 12, 15, 18, 21, 24])\n",
    "axs[1].set_yticklabels([3, 6, 9, 12, 15, 18, 21, 24], fontsize=15)\n",
    "axs[1].set_title('# of passing OSW', fontsize=15)\n",
    "axs[1].legend(fontsize=14)\n",
    "\n",
    "plt.savefig('../latex/performance_bar_plot.png')"
   ]
  },
  {
   "cell_type": "code",
   "execution_count": null,
   "metadata": {},
   "outputs": [],
   "source": [
    "original_osw_passing = dict({'0':0, '1':0, '2':0, '3':0})\n",
    "original_psw_passing = dict({'0':0, '1':0, '2':0, '3':0})\n",
    "\n",
    "for _, row in temp_df.iterrows():\n",
    "    strata = str(row['Old strata'])\n",
    "\n",
    "    n_psw_acc = row['Old_PSW_mean_accuracy']\n",
    "    n_osw_acc = row['Old_OSW_mean_accuracy']\n",
    "\n",
    "    if n_psw_acc >= 70:\n",
    "        original_psw_passing[strata] += 1\n",
    "    if n_osw_acc >= 80:\n",
    "        original_osw_passing[strata] += 1"
   ]
  },
  {
   "cell_type": "code",
   "execution_count": null,
   "metadata": {},
   "outputs": [],
   "source": [
    "fig, axs = plt.subplots(1, 1, figsize=(12, 8))\n",
    "\n",
    "# PSW\n",
    "psw_keys, psw_values = zip(*original_psw_passing.items())\n",
    "osw_keys, osw_values = zip(*original_osw_passing.items())\n",
    "_, old_strata_counts = zip(*old_strata_count.items())\n",
    "\n",
    "# Set the width of each bar\n",
    "bar_width = 0.4\n",
    "\n",
    "# Calculate the x positions for the bars\n",
    "old_x = range(0, len(psw_keys))\n",
    "new_x = [x+0.2 for x in old_x]\n",
    "newer_x = [x+0.1 for x in old_x]\n",
    "\n",
    "# Create the bar plots\n",
    "axs.bar(old_x, psw_values, width=bar_width, label='PSW passing', alpha=0.8)\n",
    "axs.bar(new_x, osw_values, width=bar_width, label='OSW passing', alpha=0.8)\n",
    "axs.bar(newer_x, old_strata_counts, width=bar_width+0.2, fill=False, label='Total # of scenes in strata')\n",
    "axs.set_xlabel('Strata', fontsize=14)\n",
    "axs.set_ylabel('Count', fontsize=14)\n",
    "axs.set_xticks([0, 1, 2, 3])\n",
    "axs.set_xticklabels([0, 1, 2, 3], fontsize=15)\n",
    "axs.set_yticks([3, 6, 9, 12, 15, 18, 21])\n",
    "axs.set_yticklabels([3, 6, 9, 12, 15, 18, 21], fontsize=15)\n",
    "axs.set_title('Passing PSW/OSW in original validation', fontsize=15)\n",
    "axs.legend(fontsize=14, loc='upper left')\n",
    "\n",
    "\n",
    "plt.savefig('../latex/pass_fail_original_distribution.png')"
   ]
  },
  {
   "cell_type": "code",
   "execution_count": null,
   "metadata": {},
   "outputs": [],
   "source": [
    "current_osw_passing = dict({'0':0, '1':0, '2':0, '3':0})\n",
    "current_psw_passing = dict({'0':0, '1':0, '2':0, '3':0})\n",
    "\n",
    "for _, row in temp_df.iterrows():\n",
    "    strata = str(row['New strata'])\n",
    "    # print(strata)\n",
    "\n",
    "    n_psw_acc = row['New_PSW_mean_accuracy']\n",
    "    n_osw_acc = row['New_OSW_mean_accuracy']\n",
    "\n",
    "    if n_psw_acc >= 70:\n",
    "        current_psw_passing[strata] += 1\n",
    "    if n_osw_acc >= 80:\n",
    "        current_osw_passing[strata] += 1"
   ]
  },
  {
   "cell_type": "code",
   "execution_count": null,
   "metadata": {},
   "outputs": [],
   "source": [
    "temp_df.head()"
   ]
  },
  {
   "cell_type": "code",
   "execution_count": null,
   "metadata": {},
   "outputs": [],
   "source": [
    "fig, axs = plt.subplots(1, 1, figsize=(12, 8))\n",
    "\n",
    "# PSW\n",
    "psw_keys, psw_values = zip(*current_psw_passing.items())\n",
    "osw_keys, osw_values = zip(*current_osw_passing.items())\n",
    "_, new_strata_counts = zip(*new_strata_count.items())\n",
    "\n",
    "# Set the width of each bar\n",
    "bar_width = 0.4\n",
    "\n",
    "# Calculate the x positions for the bars\n",
    "old_x = range(0, len(psw_keys))\n",
    "new_x = [x+0.2 for x in old_x]\n",
    "newer_x = [x+0.1 for x in old_x]\n",
    "\n",
    "# Create the bar plots\n",
    "axs.bar(old_x, psw_values, width=bar_width, label='PSW passing', alpha=0.8)\n",
    "axs.bar(new_x, osw_values, width=bar_width, label='OSW passing', alpha=0.8)\n",
    "axs.bar(newer_x, new_strata_counts, width=bar_width+0.2, fill=False, label='Total # of scenes in strata')\n",
    "axs.set_xlabel('Strata', fontsize=14)\n",
    "axs.set_ylabel('Count', fontsize=14)\n",
    "axs.set_xticks([0, 1, 2, 3])\n",
    "axs.set_xticklabels([0, 1, 2, 3], fontsize=15)\n",
    "axs.set_yticks([3, 6, 9, 12, 15, 18, 21])\n",
    "axs.set_yticklabels([3, 6, 9, 12, 15, 18, 21], fontsize=15)\n",
    "axs.set_title('Passing PSW/OSW in expanded validation', fontsize=15)\n",
    "axs.legend(fontsize=14, loc='upper left')\n",
    "\n",
    "\n",
    "plt.savefig('../latex/pass_fail_new_distribution.png')"
   ]
  }
 ],
 "metadata": {
  "kernelspec": {
   "display_name": "Python 3.11.6 ('expand-validation')",
   "language": "python",
   "name": "python3"
  },
  "language_info": {
   "codemirror_mode": {
    "name": "ipython",
    "version": 3
   },
   "file_extension": ".py",
   "mimetype": "text/x-python",
   "name": "python",
   "nbconvert_exporter": "python",
   "pygments_lexer": "ipython3",
   "version": "3.11.6"
  },
  "orig_nbformat": 4,
  "vscode": {
   "interpreter": {
    "hash": "1a751338cf89ec1649cdf743d3dc7fe23ec82d22a9f9be14ff02c9be8441ee2f"
   }
  }
 },
 "nbformat": 4,
 "nbformat_minor": 2
}
