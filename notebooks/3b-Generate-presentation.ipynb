{
 "cells": [
  {
   "cell_type": "code",
   "execution_count": 8,
   "metadata": {},
   "outputs": [],
   "source": [
    "import matplotlib.pyplot as plt\n",
    "import rasterio\n",
    "from pathlib import Path\n",
    "import pandas as pd"
   ]
  },
  {
   "cell_type": "code",
   "execution_count": 9,
   "metadata": {},
   "outputs": [],
   "source": [
    "latex_path = Path(\"../latex\")\n",
    "latex_path.mkdir(exist_ok=True)"
   ]
  },
  {
   "cell_type": "code",
   "execution_count": 10,
   "metadata": {},
   "outputs": [
    {
     "data": {
      "text/html": [
       "<div>\n",
       "<style scoped>\n",
       "    .dataframe tbody tr th:only-of-type {\n",
       "        vertical-align: middle;\n",
       "    }\n",
       "\n",
       "    .dataframe tbody tr th {\n",
       "        vertical-align: top;\n",
       "    }\n",
       "\n",
       "    .dataframe thead th {\n",
       "        text-align: right;\n",
       "    }\n",
       "</style>\n",
       "<table border=\"1\" class=\"dataframe\">\n",
       "  <thead>\n",
       "    <tr style=\"text-align: right;\">\n",
       "      <th></th>\n",
       "      <th>site_name</th>\n",
       "      <th>planet_id</th>\n",
       "      <th>dswx_files</th>\n",
       "    </tr>\n",
       "  </thead>\n",
       "  <tbody>\n",
       "    <tr>\n",
       "      <th>0</th>\n",
       "      <td>4_21</td>\n",
       "      <td>20210903_150800_60_2458</td>\n",
       "      <td>../data/20210903_150800_60_2458/OPERA_L3_DSWx-...</td>\n",
       "    </tr>\n",
       "    <tr>\n",
       "      <th>1</th>\n",
       "      <td>4_11</td>\n",
       "      <td>20210903_152641_60_105c</td>\n",
       "      <td>../data/20210903_152641_60_105c/OPERA_L3_DSWx-...</td>\n",
       "    </tr>\n",
       "    <tr>\n",
       "      <th>2</th>\n",
       "      <td>1_31</td>\n",
       "      <td>20210904_093422_44_1065</td>\n",
       "      <td>../data/20210904_093422_44_1065/OPERA_L3_DSWx-...</td>\n",
       "    </tr>\n",
       "    <tr>\n",
       "      <th>3</th>\n",
       "      <td>3_28</td>\n",
       "      <td>20210906_101112_28_225a</td>\n",
       "      <td>../data/20210906_101112_28_225a/OPERA_L3_DSWx-...</td>\n",
       "    </tr>\n",
       "    <tr>\n",
       "      <th>4</th>\n",
       "      <td>1_37</td>\n",
       "      <td>20210909_000649_94_222b</td>\n",
       "      <td>../data/20210909_000649_94_222b/OPERA_L3_DSWx-...</td>\n",
       "    </tr>\n",
       "  </tbody>\n",
       "</table>\n",
       "</div>"
      ],
      "text/plain": [
       "  site_name                planet_id   \n",
       "0      4_21  20210903_150800_60_2458  \\\n",
       "1      4_11  20210903_152641_60_105c   \n",
       "2      1_31  20210904_093422_44_1065   \n",
       "3      3_28  20210906_101112_28_225a   \n",
       "4      1_37  20210909_000649_94_222b   \n",
       "\n",
       "                                          dswx_files  \n",
       "0  ../data/20210903_150800_60_2458/OPERA_L3_DSWx-...  \n",
       "1  ../data/20210903_152641_60_105c/OPERA_L3_DSWx-...  \n",
       "2  ../data/20210904_093422_44_1065/OPERA_L3_DSWx-...  \n",
       "3  ../data/20210906_101112_28_225a/OPERA_L3_DSWx-...  \n",
       "4  ../data/20210909_000649_94_222b/OPERA_L3_DSWx-...  "
      ]
     },
     "execution_count": 10,
     "metadata": {},
     "output_type": "execute_result"
    }
   ],
   "source": [
    "data_path = Path('../data')\n",
    "cropped_data_path = data_path / 'planet_images_cropped'\n",
    "\n",
    "df = pd.read_csv(data_path / 'new_validation_table.csv')\n",
    "df = df[['site_name', 'planet_id', 'dswx_files']]\n",
    "\n",
    "df.head()"
   ]
  },
  {
   "cell_type": "code",
   "execution_count": 11,
   "metadata": {},
   "outputs": [],
   "source": [
    "latex_slide_template = r\"\"\"\n",
    "%%%%%%%%%%%%%%%%%%%%%%%%%%%%%%%%%%%%%%%%%%%%%%%%%%\n",
    "\\begin{frame}[fragile]\n",
    "\\frametitle{$<<DSWX_ID>>$}\n",
    "\n",
    "\\begin{center}\n",
    "\\tiny\n",
    "\\begin{verbatim}\n",
    "DSWx ID: <<DSWX_ID_ORIG>>\n",
    "SITE ID: <<SITE_ID>>\n",
    "\\end{verbatim}\n",
    "\\includegraphics[scale=0.25]{<<DSWX_DIR>>/chip_extents.png}\n",
    "\\vfill\n",
    "\\input{<<DSWX_DIR>>/requirements.tex}\n",
    "\\vfill\n",
    "%\\input{<<DSWX_DIR>>/requirements_expanded.tex}\n",
    "\\vfill\n",
    "%\\input{<<DSWX_DIR>>/requirements_expanded.tex}\n",
    "\\vfill\n",
    "\\input{<<DSWX_DIR>>/area_summary.tex}\n",
    "\\end{center}\n",
    "\\vfill\n",
    "\\end{frame}\n",
    "%%%%%%%%%%%%%%%%%%%%%%%%%%%%%%%%%%%%%%%%%%%%%%%%%%\n",
    "\n",
    "%%%%%%%%%%%%%%%%%%%%%%%%%%%%%%%%%%%%%%%%%%%%%%%%%%\n",
    "\\begin{frame}[fragile]\n",
    "\\frametitle{$<<DSWX_ID>>$}\n",
    "\n",
    "\\begin{center}\n",
    "\\tiny\n",
    "\\begin{verbatim}\n",
    "DSWx ID: <<DSWX_ID_ORIG>>\n",
    "\\end{verbatim}\n",
    "\\vfill\n",
    "\\includegraphics[scale=0.25]{<<DSWX_DIR>>/classifications.png}\n",
    "\\vfill\n",
    "\\end{center}\n",
    "\\end{frame}\n",
    "%%%%%%%%%%%%%%%%%%%%%%%%%%%%%%%%%%%%%%%%%%%%%%%%%%\n",
    "\"\"\""
   ]
  },
  {
   "cell_type": "code",
   "execution_count": 13,
   "metadata": {},
   "outputs": [],
   "source": [
    "with open(latex_path / \"slides.tex\", 'w') as f:\n",
    "    for i, row in df.iterrows():\n",
    "        \n",
    "        planet_id = row.planet_id\n",
    "        dswx_id_orig = row.dswx_files.split('/')[-1][:-12]\n",
    "        dswx_id = dswx_id_orig.replace('_', '\\_').replace('-', '{\\\\text -}')\n",
    "\n",
    "        tmp_text = latex_slide_template.replace(\"<<DSWX_ID>>\", str(dswx_id))\n",
    "        tmp_text = tmp_text.replace(\"<<DSWX_ID_ORIG>>\", str(dswx_id_orig))\n",
    "        tmp_text = tmp_text.replace(\"<<DSWX_DIR>>\", str(planet_id))\n",
    "        tmp_text = tmp_text.replace(\"<<<Not Passed>>>\", \"\\textcolor{red}{Not Passed}\")\n",
    "        tmp_text = tmp_text.replace(\"<<PLANET_ID>>\", planet_id)\n",
    "        tmp_text = tmp_text.replace(\"<<SITE_ID>>\", row.site_name)\n",
    "\n",
    "        f.write(tmp_text)"
   ]
  }
 ],
 "metadata": {
  "kernelspec": {
   "display_name": "Python 3.11.3 ('expand-validation')",
   "language": "python",
   "name": "python3"
  },
  "language_info": {
   "codemirror_mode": {
    "name": "ipython",
    "version": 3
   },
   "file_extension": ".py",
   "mimetype": "text/x-python",
   "name": "python",
   "nbconvert_exporter": "python",
   "pygments_lexer": "ipython3",
   "version": "3.11.3"
  },
  "orig_nbformat": 4,
  "vscode": {
   "interpreter": {
    "hash": "1a751338cf89ec1649cdf743d3dc7fe23ec82d22a9f9be14ff02c9be8441ee2f"
   }
  }
 },
 "nbformat": 4,
 "nbformat_minor": 2
}
