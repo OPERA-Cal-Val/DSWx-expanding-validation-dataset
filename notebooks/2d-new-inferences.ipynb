{
 "cells": [
  {
   "cell_type": "markdown",
   "metadata": {},
   "source": [
    "This notebook can be used to generate water masks from new Planet scenes. The notebook expects an 8 band or 4 band PlanetScope image, along with the metadata file (*.xml) to be within the scene folder.\n",
    "\n",
    "The water mask will be written to a file labeled `model_classification.tif` within the same folder"
   ]
  },
  {
   "cell_type": "code",
   "execution_count": null,
   "metadata": {},
   "outputs": [],
   "source": [
    "# GIS imports\n",
    "import rasterio\n",
    "\n",
    "# Numpy and sklear imports\n",
    "import numpy as np\n",
    "from sklearn.ensemble import HistGradientBoostingClassifier\n",
    "from skimage.segmentation import felzenszwalb\n",
    "from sklearn.model_selection import train_test_split\n",
    "from sklearn.metrics import precision_recall_fscore_support as score\n",
    "from skimage import filters, exposure\n",
    "\n",
    "# misc imports\n",
    "from pathlib import Path\n",
    "import joblib\n",
    "from joblib import dump\n",
    "from tqdm import tqdm\n",
    "\n",
    "# local imports\n",
    "from tools import get_superpixel_stds_as_features, get_superpixel_means_as_features, get_array_from_features, get_segment_sizes\n",
    "from rf_funcs import calc_ndwi, calc_ndvi, return_grn_indices, return_img_bands, return_reflectance_coeffs\n",
    "\n",
    "# for repeatability\n",
    "np.random.seed(42)"
   ]
  },
  {
   "cell_type": "code",
   "execution_count": null,
   "metadata": {
    "tags": [
     "parameters"
    ]
   },
   "outputs": [],
   "source": [
    "# The parameters in this cell can be modified using papermill\n",
    "PLANET_ID = '20210903_150800_60_2458' # name of Planet scene\n",
    "DATA_PATH = '../data' # relative location containing Planet scene folder\n",
    "MODEL_PATH = \"../trained_models/gb_tree_model.joblib\" # relative location of model weights"
   ]
  },
  {
   "cell_type": "code",
   "execution_count": null,
   "metadata": {},
   "outputs": [],
   "source": [
    "# FELZENSZWALB PARAMETERS\n",
    "F_SCALE = 20\n",
    "F_MINSIZE = 20\n",
    "F_SIGMA = 0\n",
    "\n",
    "data_path = Path(DATA_PATH)"
   ]
  },
  {
   "cell_type": "code",
   "execution_count": null,
   "metadata": {},
   "outputs": [],
   "source": [
    "# Let's make inferences on the given planet images\n",
    "def generate_inference_helper(rf, img:str|Path, xml_file:str|Path, denoising_weight=0.):\n",
    "    band_idxs = return_grn_indices(xml_file)\n",
    "    coeffs = return_reflectance_coeffs(xml_file, band_idxs)\n",
    "    \n",
    "    full_img = return_img_bands(img, band_idxs, denoising_weight=denoising_weight)\n",
    "\n",
    "    green = full_img[0]*coeffs[band_idxs[0]]\n",
    "    red = full_img[1]*coeffs[band_idxs[1]]\n",
    "    nir = full_img[2]*coeffs[band_idxs[2]]\n",
    "\n",
    "    with rasterio.open(img) as ds:\n",
    "        ref_profile = ds.profile\n",
    "\n",
    "    ndwi = calc_ndwi(green, nir)\n",
    "    ndvi = calc_ndvi(red, nir)\n",
    "\n",
    "    new_img = exposure.adjust_gamma(exposure.equalize_hist(filters.scharr(nir), nbins=64), gamma=20)\n",
    "    print(f\"Starting segmentation for {img}\")\n",
    "    segments = felzenszwalb(new_img, scale=F_SCALE, min_size=F_MINSIZE, sigma=F_SIGMA)\n",
    "    print(f\"Completed segmentation for {img}\")\n",
    "\n",
    "    # for inference we include other channels as well\n",
    "    img_stack = np.stack([red, nir, green, ndwi, ndvi], axis=-1)\n",
    "    std_features = get_superpixel_stds_as_features(segments, img_stack)\n",
    "    mean_features = get_superpixel_means_as_features(segments, img_stack)\n",
    "    segment_sizes = get_segment_sizes(segments)\n",
    "    \n",
    "    print(f\"starting inference {img}\")\n",
    "    X = np.concatenate([mean_features, std_features, segment_sizes], axis = 1)\n",
    "    y = rf.predict(X)\n",
    "    print(f\"finished inference {img}\")\n",
    "\n",
    "    return get_array_from_features(segments, np.expand_dims(y, axis=1))\n",
    "\n",
    "def generate_inference(planet_id):\n",
    "    \"\"\" \n",
    "    This function takes in a planet_id and generates inferences for the overlapping planet image\n",
    "    \"\"\"\n",
    "    current_img_path = data_path / planet_id\n",
    "    xml_file = list(current_img_path.glob('*.xml'))[0]\n",
    "    img = list(current_img_path.glob(f'{planet_id}*.tif'))[0]\n",
    "\n",
    "    output_filename = current_img_path / f'model_classification.tif'\n",
    "\n",
    "    print(\"Test file name:\", img)\n",
    "    assert img.exists(), \"File does not exist!!\"\n",
    "\n",
    "    rf = joblib.load(MODEL_PATH)\n",
    "\n",
    "    inference = generate_inference_helper(rf, img, xml_file)\n",
    "    print(f\"Returned from inference generation {planet_id}\")\n",
    "\n",
    "    # use planet image to mask out regions of no data in the model inference\n",
    "    print(f\"writing inference {img}\")\n",
    "    with rasterio.open(img) as src_ds:\n",
    "        nodata_mask = np.where(src_ds.read(1) == src_ds.profile['nodata'], 1, 0)\n",
    "        inference[nodata_mask==1] = 255\n",
    "        profile_copy = src_ds.profile\n",
    "        profile_copy.update({'count':1, 'dtype':np.uint8, 'nodata':255})\n",
    "\n",
    "        # write out model inference\n",
    "        with rasterio.open(output_filename, 'w', **profile_copy) as dst_ds:\n",
    "            dst_ds.write(inference.astype(np.uint8).reshape(1, *inference.shape))\n",
    "\n",
    "    print(f\"Completed inference for planet id {planet_id}\")\n",
    "    print(f\"Output filename: \", output_filename)"
   ]
  },
  {
   "cell_type": "code",
   "execution_count": null,
   "metadata": {},
   "outputs": [],
   "source": [
    "_ = generate_inference(PLANET_ID)"
   ]
  }
 ],
 "metadata": {
  "kernelspec": {
   "display_name": "Python 3.11.3 ('expand-validation')",
   "language": "python",
   "name": "python3"
  },
  "language_info": {
   "codemirror_mode": {
    "name": "ipython",
    "version": 3
   },
   "file_extension": ".py",
   "mimetype": "text/x-python",
   "name": "python",
   "nbconvert_exporter": "python",
   "pygments_lexer": "ipython3",
   "version": "3.11.6"
  },
  "orig_nbformat": 4,
  "vscode": {
   "interpreter": {
    "hash": "1a751338cf89ec1649cdf743d3dc7fe23ec82d22a9f9be14ff02c9be8441ee2f"
   }
  }
 },
 "nbformat": 4,
 "nbformat_minor": 2
}
